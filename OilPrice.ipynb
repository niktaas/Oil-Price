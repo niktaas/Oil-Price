{
  "cells": [
    {
      "cell_type": "markdown",
      "metadata": {
        "id": "view-in-github",
        "colab_type": "text"
      },
      "source": [
        "<a href=\"https://colab.research.google.com/github/niktaas/Oil-Price/blob/main/OilPrice.ipynb\" target=\"_parent\"><img src=\"https://colab.research.google.com/assets/colab-badge.svg\" alt=\"Open In Colab\"/></a>"
      ]
    },
    {
      "cell_type": "code",
      "execution_count": null,
      "metadata": {
        "id": "eTwqkSgTDtaL",
        "colab": {
          "base_uri": "https://localhost:8080/"
        },
        "outputId": "527968a4-51e1-4e8c-857d-205e232aafcb"
      },
      "outputs": [
        {
          "output_type": "stream",
          "name": "stdout",
          "text": [
            "Requirement already satisfied: requests in /usr/local/lib/python3.7/dist-packages (2.23.0)\n",
            "Requirement already satisfied: chardet<4,>=3.0.2 in /usr/local/lib/python3.7/dist-packages (from requests) (3.0.4)\n",
            "Requirement already satisfied: certifi>=2017.4.17 in /usr/local/lib/python3.7/dist-packages (from requests) (2021.10.8)\n",
            "Requirement already satisfied: urllib3!=1.25.0,!=1.25.1,<1.26,>=1.21.1 in /usr/local/lib/python3.7/dist-packages (from requests) (1.24.3)\n",
            "Requirement already satisfied: idna<3,>=2.5 in /usr/local/lib/python3.7/dist-packages (from requests) (2.10)\n"
          ]
        }
      ],
      "source": [
        "# !pip install requests"
      ]
    },
    {
      "cell_type": "code",
      "execution_count": null,
      "metadata": {
        "id": "ZGO0mTnSD27x",
        "colab": {
          "base_uri": "https://localhost:8080/"
        },
        "outputId": "b13b36dc-2161-48b4-f22a-b46d7508cad3"
      },
      "outputs": [
        {
          "output_type": "stream",
          "name": "stdout",
          "text": [
            "Requirement already satisfied: beautifulsoup4 in /usr/local/lib/python3.7/dist-packages (4.6.3)\n"
          ]
        }
      ],
      "source": [
        "# !pip install beautifulsoup4"
      ]
    },
    {
      "cell_type": "markdown",
      "metadata": {
        "id": "1Rz_qLtjcJmt"
      },
      "source": [
        "# Web Scraping"
      ]
    },
    {
      "cell_type": "code",
      "execution_count": null,
      "metadata": {
        "id": "vxX_UWvMOHt0"
      },
      "outputs": [],
      "source": [
        "from time import sleep\n",
        "from random import randint\n",
        "import requests\n",
        "from bs4 import BeautifulSoup\n",
        "import pandas as pd\n",
        "from datetime import datetime"
      ]
    },
    {
      "cell_type": "code",
      "execution_count": null,
      "metadata": {
        "id": "kLPSL56IVW9u"
      },
      "outputs": [],
      "source": [
        "# !pip install nltk"
      ]
    },
    {
      "cell_type": "code",
      "execution_count": null,
      "metadata": {
        "id": "ty5FzvwaD8ko"
      },
      "outputs": [],
      "source": [
        "# url = 'https://oilprice.com/Energy/Oil-Prices/'"
      ]
    },
    {
      "cell_type": "code",
      "execution_count": null,
      "metadata": {
        "id": "IkaQpGbIUhim"
      },
      "outputs": [],
      "source": [
        "# headlines=[]\n",
        "# dates=[]\n",
        "\n",
        "# r = requests.get(url)\n",
        "# soup = BeautifulSoup(r.text, 'html.parser')\n",
        "# first_news = soup.find_all('div', class_ = 'categoryArticle__content')\n",
        "# print(len(first_news))\n",
        "# for row in first_news:\n",
        "#   first_headline = row.a.h2.text\n",
        "#   headlines.append(first_headline)\n",
        "\n",
        "#   first_info = row.p.text\n",
        "#   first_buggy_date = first_info.split(\"at\",1)[0]\n",
        "#   first_date = first_buggy_date.rstrip(first_buggy_date[-1])\n",
        "#   dates.append(first_date)\n",
        "\n",
        "# print(headlines)\n",
        "# print(dates)"
      ]
    },
    {
      "cell_type": "code",
      "execution_count": null,
      "metadata": {
        "id": "DOuvP-nRO2ct"
      },
      "outputs": [],
      "source": [
        "# pages = [str(i) for i in range(2,115)]"
      ]
    },
    {
      "cell_type": "code",
      "execution_count": null,
      "metadata": {
        "id": "gBLJgXCnPBQo"
      },
      "outputs": [],
      "source": [
        "# for page in pages:\n",
        "#   r = requests.get(url+'Page-'+str(page)+'.html')\n",
        "#   #dely\n",
        "#   sleep(randint(1,4))\n",
        "\n",
        "#   soup = BeautifulSoup(r.text, 'html.parser')\n",
        "#   news = soup.find_all('div', class_ = 'categoryArticle__content')\n",
        "#   for row in news:\n",
        "#     headline = row.a.h2.text\n",
        "#     headlines.append(headline)\n",
        "\n",
        "#     info = row.p.text\n",
        "#     buggy_date = info.split(\"at\",1)[0]\n",
        "#     date = buggy_date.rstrip(buggy_date[-1])\n",
        "#     dates.append(date)"
      ]
    },
    {
      "cell_type": "code",
      "execution_count": null,
      "metadata": {
        "id": "sb9GQC2YRtYF"
      },
      "outputs": [],
      "source": [
        "# print(len(headlines))\n",
        "# print(len(dates))"
      ]
    },
    {
      "cell_type": "code",
      "execution_count": null,
      "metadata": {
        "id": "QJCOpa74R6gj"
      },
      "outputs": [],
      "source": [
        "# df = pd.DataFrame({'headline': headlines,\n",
        "# 'date': dates})"
      ]
    },
    {
      "cell_type": "code",
      "execution_count": null,
      "metadata": {
        "id": "qCoX465YYbET"
      },
      "outputs": [],
      "source": [
        "# df.head()"
      ]
    },
    {
      "cell_type": "code",
      "source": [
        "from google.colab import drive\n",
        "\n",
        "drive.mount('/content/drive')"
      ],
      "metadata": {
        "colab": {
          "base_uri": "https://localhost:8080/"
        },
        "id": "8J86CNPkHPQu",
        "outputId": "ab45ca45-fc8b-4cfd-a90e-938b68a2947a"
      },
      "execution_count": null,
      "outputs": [
        {
          "output_type": "stream",
          "name": "stdout",
          "text": [
            "Mounted at /content/drive\n"
          ]
        }
      ]
    },
    {
      "cell_type": "code",
      "source": [
        "path = '/content/drive/My Drive/oilprice.csv'"
      ],
      "metadata": {
        "id": "KRuZOO-KHdXG"
      },
      "execution_count": null,
      "outputs": []
    },
    {
      "cell_type": "code",
      "execution_count": null,
      "metadata": {
        "id": "hiNVZs_AYf9N"
      },
      "outputs": [],
      "source": [
        "# with open(path, 'w', encoding = 'utf-8-sig') as f:\n",
        "#   df.to_csv(f)"
      ]
    },
    {
      "cell_type": "code",
      "execution_count": null,
      "metadata": {
        "colab": {
          "base_uri": "https://localhost:8080/",
          "height": 423
        },
        "id": "YJtHFhyIe9rq",
        "outputId": "858e21e8-ed84-4807-f65e-4011c973b205"
      },
      "outputs": [
        {
          "output_type": "execute_result",
          "data": {
            "text/plain": [
              "      Unnamed: 0                                           headline  \\\n",
              "0              0  Brent Crude Falls Below $100 On China Lockdown...   \n",
              "1              1  Chinese Oil Demand Set For 1.2 Million Bpd Plu...   \n",
              "2              2           Large Crude Draw Sends Oil Prices Higher   \n",
              "3              3  Oil Dips As IMF Slashes Economic Growth Forecasts   \n",
              "4              4  JPMorgan: Immediate EU Ban On Russian Oil Coul...   \n",
              "...          ...                                                ...   \n",
              "2275        2275       Oil Prices Fall as Winter Premium Melts Away   \n",
              "2276        2276           A Disobliging Update on the Price of Oil   \n",
              "2277        2277               What Happens When the Wells Run Dry?   \n",
              "2278        2278  Petro Unfriendly California Changing it's Stan...   \n",
              "2279        2279  New Techniques Oil Companies are Using in Dril...   \n",
              "\n",
              "              date  \n",
              "0     Apr 25, 2022  \n",
              "1     Apr 22, 2022  \n",
              "2     Apr 20, 2022  \n",
              "3     Apr 19, 2022  \n",
              "4     Apr 19, 2022  \n",
              "...            ...  \n",
              "2275  Jan 16, 2010  \n",
              "2276  Jan 09, 2010  \n",
              "2277  Jan 08, 2010  \n",
              "2278  Dec 30, 2009  \n",
              "2279  Nov 25, 2009  \n",
              "\n",
              "[2280 rows x 3 columns]"
            ],
            "text/html": [
              "\n",
              "  <div id=\"df-ed8f3b42-7d84-4e7e-a3af-b696442f1d26\">\n",
              "    <div class=\"colab-df-container\">\n",
              "      <div>\n",
              "<style scoped>\n",
              "    .dataframe tbody tr th:only-of-type {\n",
              "        vertical-align: middle;\n",
              "    }\n",
              "\n",
              "    .dataframe tbody tr th {\n",
              "        vertical-align: top;\n",
              "    }\n",
              "\n",
              "    .dataframe thead th {\n",
              "        text-align: right;\n",
              "    }\n",
              "</style>\n",
              "<table border=\"1\" class=\"dataframe\">\n",
              "  <thead>\n",
              "    <tr style=\"text-align: right;\">\n",
              "      <th></th>\n",
              "      <th>Unnamed: 0</th>\n",
              "      <th>headline</th>\n",
              "      <th>date</th>\n",
              "    </tr>\n",
              "  </thead>\n",
              "  <tbody>\n",
              "    <tr>\n",
              "      <th>0</th>\n",
              "      <td>0</td>\n",
              "      <td>Brent Crude Falls Below $100 On China Lockdown...</td>\n",
              "      <td>Apr 25, 2022</td>\n",
              "    </tr>\n",
              "    <tr>\n",
              "      <th>1</th>\n",
              "      <td>1</td>\n",
              "      <td>Chinese Oil Demand Set For 1.2 Million Bpd Plu...</td>\n",
              "      <td>Apr 22, 2022</td>\n",
              "    </tr>\n",
              "    <tr>\n",
              "      <th>2</th>\n",
              "      <td>2</td>\n",
              "      <td>Large Crude Draw Sends Oil Prices Higher</td>\n",
              "      <td>Apr 20, 2022</td>\n",
              "    </tr>\n",
              "    <tr>\n",
              "      <th>3</th>\n",
              "      <td>3</td>\n",
              "      <td>Oil Dips As IMF Slashes Economic Growth Forecasts</td>\n",
              "      <td>Apr 19, 2022</td>\n",
              "    </tr>\n",
              "    <tr>\n",
              "      <th>4</th>\n",
              "      <td>4</td>\n",
              "      <td>JPMorgan: Immediate EU Ban On Russian Oil Coul...</td>\n",
              "      <td>Apr 19, 2022</td>\n",
              "    </tr>\n",
              "    <tr>\n",
              "      <th>...</th>\n",
              "      <td>...</td>\n",
              "      <td>...</td>\n",
              "      <td>...</td>\n",
              "    </tr>\n",
              "    <tr>\n",
              "      <th>2275</th>\n",
              "      <td>2275</td>\n",
              "      <td>Oil Prices Fall as Winter Premium Melts Away</td>\n",
              "      <td>Jan 16, 2010</td>\n",
              "    </tr>\n",
              "    <tr>\n",
              "      <th>2276</th>\n",
              "      <td>2276</td>\n",
              "      <td>A Disobliging Update on the Price of Oil</td>\n",
              "      <td>Jan 09, 2010</td>\n",
              "    </tr>\n",
              "    <tr>\n",
              "      <th>2277</th>\n",
              "      <td>2277</td>\n",
              "      <td>What Happens When the Wells Run Dry?</td>\n",
              "      <td>Jan 08, 2010</td>\n",
              "    </tr>\n",
              "    <tr>\n",
              "      <th>2278</th>\n",
              "      <td>2278</td>\n",
              "      <td>Petro Unfriendly California Changing it's Stan...</td>\n",
              "      <td>Dec 30, 2009</td>\n",
              "    </tr>\n",
              "    <tr>\n",
              "      <th>2279</th>\n",
              "      <td>2279</td>\n",
              "      <td>New Techniques Oil Companies are Using in Dril...</td>\n",
              "      <td>Nov 25, 2009</td>\n",
              "    </tr>\n",
              "  </tbody>\n",
              "</table>\n",
              "<p>2280 rows × 3 columns</p>\n",
              "</div>\n",
              "      <button class=\"colab-df-convert\" onclick=\"convertToInteractive('df-ed8f3b42-7d84-4e7e-a3af-b696442f1d26')\"\n",
              "              title=\"Convert this dataframe to an interactive table.\"\n",
              "              style=\"display:none;\">\n",
              "        \n",
              "  <svg xmlns=\"http://www.w3.org/2000/svg\" height=\"24px\"viewBox=\"0 0 24 24\"\n",
              "       width=\"24px\">\n",
              "    <path d=\"M0 0h24v24H0V0z\" fill=\"none\"/>\n",
              "    <path d=\"M18.56 5.44l.94 2.06.94-2.06 2.06-.94-2.06-.94-.94-2.06-.94 2.06-2.06.94zm-11 1L8.5 8.5l.94-2.06 2.06-.94-2.06-.94L8.5 2.5l-.94 2.06-2.06.94zm10 10l.94 2.06.94-2.06 2.06-.94-2.06-.94-.94-2.06-.94 2.06-2.06.94z\"/><path d=\"M17.41 7.96l-1.37-1.37c-.4-.4-.92-.59-1.43-.59-.52 0-1.04.2-1.43.59L10.3 9.45l-7.72 7.72c-.78.78-.78 2.05 0 2.83L4 21.41c.39.39.9.59 1.41.59.51 0 1.02-.2 1.41-.59l7.78-7.78 2.81-2.81c.8-.78.8-2.07 0-2.86zM5.41 20L4 18.59l7.72-7.72 1.47 1.35L5.41 20z\"/>\n",
              "  </svg>\n",
              "      </button>\n",
              "      \n",
              "  <style>\n",
              "    .colab-df-container {\n",
              "      display:flex;\n",
              "      flex-wrap:wrap;\n",
              "      gap: 12px;\n",
              "    }\n",
              "\n",
              "    .colab-df-convert {\n",
              "      background-color: #E8F0FE;\n",
              "      border: none;\n",
              "      border-radius: 50%;\n",
              "      cursor: pointer;\n",
              "      display: none;\n",
              "      fill: #1967D2;\n",
              "      height: 32px;\n",
              "      padding: 0 0 0 0;\n",
              "      width: 32px;\n",
              "    }\n",
              "\n",
              "    .colab-df-convert:hover {\n",
              "      background-color: #E2EBFA;\n",
              "      box-shadow: 0px 1px 2px rgba(60, 64, 67, 0.3), 0px 1px 3px 1px rgba(60, 64, 67, 0.15);\n",
              "      fill: #174EA6;\n",
              "    }\n",
              "\n",
              "    [theme=dark] .colab-df-convert {\n",
              "      background-color: #3B4455;\n",
              "      fill: #D2E3FC;\n",
              "    }\n",
              "\n",
              "    [theme=dark] .colab-df-convert:hover {\n",
              "      background-color: #434B5C;\n",
              "      box-shadow: 0px 1px 3px 1px rgba(0, 0, 0, 0.15);\n",
              "      filter: drop-shadow(0px 1px 2px rgba(0, 0, 0, 0.3));\n",
              "      fill: #FFFFFF;\n",
              "    }\n",
              "  </style>\n",
              "\n",
              "      <script>\n",
              "        const buttonEl =\n",
              "          document.querySelector('#df-ed8f3b42-7d84-4e7e-a3af-b696442f1d26 button.colab-df-convert');\n",
              "        buttonEl.style.display =\n",
              "          google.colab.kernel.accessAllowed ? 'block' : 'none';\n",
              "\n",
              "        async function convertToInteractive(key) {\n",
              "          const element = document.querySelector('#df-ed8f3b42-7d84-4e7e-a3af-b696442f1d26');\n",
              "          const dataTable =\n",
              "            await google.colab.kernel.invokeFunction('convertToInteractive',\n",
              "                                                     [key], {});\n",
              "          if (!dataTable) return;\n",
              "\n",
              "          const docLinkHtml = 'Like what you see? Visit the ' +\n",
              "            '<a target=\"_blank\" href=https://colab.research.google.com/notebooks/data_table.ipynb>data table notebook</a>'\n",
              "            + ' to learn more about interactive tables.';\n",
              "          element.innerHTML = '';\n",
              "          dataTable['output_type'] = 'display_data';\n",
              "          await google.colab.output.renderOutput(dataTable, element);\n",
              "          const docLink = document.createElement('div');\n",
              "          docLink.innerHTML = docLinkHtml;\n",
              "          element.appendChild(docLink);\n",
              "        }\n",
              "      </script>\n",
              "    </div>\n",
              "  </div>\n",
              "  "
            ]
          },
          "metadata": {},
          "execution_count": 21
        }
      ],
      "source": [
        "oilprice = pd.read_csv(path)\n",
        "oilprice"
      ]
    },
    {
      "cell_type": "code",
      "execution_count": null,
      "metadata": {
        "colab": {
          "base_uri": "https://localhost:8080/",
          "height": 206
        },
        "id": "rJ5Ga7-Gh6XA",
        "outputId": "ec1d77fa-5c90-4d0d-9625-3151a2e0beb9"
      },
      "outputs": [
        {
          "output_type": "execute_result",
          "data": {
            "text/plain": [
              "           Date   Price    Open    High     Low     Vol. Change %\n",
              "0  Apr 25, 2022   98.62  100.55  100.85   95.31        -   -1.90%\n",
              "1  Apr 24, 2022  100.53  101.34  101.34  100.09        -   -1.51%\n",
              "2  Apr 22, 2022  102.07  104.07  104.22  101.06        -   -1.66%\n",
              "3  Apr 21, 2022  103.79  102.50  105.42  102.01  280.32K    1.01%\n",
              "4  Apr 20, 2022  102.75  103.05  104.16  100.70   17.02K    0.19%"
            ],
            "text/html": [
              "\n",
              "  <div id=\"df-85d1917d-1ed0-42c6-a9a2-c417dc2df1e3\">\n",
              "    <div class=\"colab-df-container\">\n",
              "      <div>\n",
              "<style scoped>\n",
              "    .dataframe tbody tr th:only-of-type {\n",
              "        vertical-align: middle;\n",
              "    }\n",
              "\n",
              "    .dataframe tbody tr th {\n",
              "        vertical-align: top;\n",
              "    }\n",
              "\n",
              "    .dataframe thead th {\n",
              "        text-align: right;\n",
              "    }\n",
              "</style>\n",
              "<table border=\"1\" class=\"dataframe\">\n",
              "  <thead>\n",
              "    <tr style=\"text-align: right;\">\n",
              "      <th></th>\n",
              "      <th>Date</th>\n",
              "      <th>Price</th>\n",
              "      <th>Open</th>\n",
              "      <th>High</th>\n",
              "      <th>Low</th>\n",
              "      <th>Vol.</th>\n",
              "      <th>Change %</th>\n",
              "    </tr>\n",
              "  </thead>\n",
              "  <tbody>\n",
              "    <tr>\n",
              "      <th>0</th>\n",
              "      <td>Apr 25, 2022</td>\n",
              "      <td>98.62</td>\n",
              "      <td>100.55</td>\n",
              "      <td>100.85</td>\n",
              "      <td>95.31</td>\n",
              "      <td>-</td>\n",
              "      <td>-1.90%</td>\n",
              "    </tr>\n",
              "    <tr>\n",
              "      <th>1</th>\n",
              "      <td>Apr 24, 2022</td>\n",
              "      <td>100.53</td>\n",
              "      <td>101.34</td>\n",
              "      <td>101.34</td>\n",
              "      <td>100.09</td>\n",
              "      <td>-</td>\n",
              "      <td>-1.51%</td>\n",
              "    </tr>\n",
              "    <tr>\n",
              "      <th>2</th>\n",
              "      <td>Apr 22, 2022</td>\n",
              "      <td>102.07</td>\n",
              "      <td>104.07</td>\n",
              "      <td>104.22</td>\n",
              "      <td>101.06</td>\n",
              "      <td>-</td>\n",
              "      <td>-1.66%</td>\n",
              "    </tr>\n",
              "    <tr>\n",
              "      <th>3</th>\n",
              "      <td>Apr 21, 2022</td>\n",
              "      <td>103.79</td>\n",
              "      <td>102.50</td>\n",
              "      <td>105.42</td>\n",
              "      <td>102.01</td>\n",
              "      <td>280.32K</td>\n",
              "      <td>1.01%</td>\n",
              "    </tr>\n",
              "    <tr>\n",
              "      <th>4</th>\n",
              "      <td>Apr 20, 2022</td>\n",
              "      <td>102.75</td>\n",
              "      <td>103.05</td>\n",
              "      <td>104.16</td>\n",
              "      <td>100.70</td>\n",
              "      <td>17.02K</td>\n",
              "      <td>0.19%</td>\n",
              "    </tr>\n",
              "  </tbody>\n",
              "</table>\n",
              "</div>\n",
              "      <button class=\"colab-df-convert\" onclick=\"convertToInteractive('df-85d1917d-1ed0-42c6-a9a2-c417dc2df1e3')\"\n",
              "              title=\"Convert this dataframe to an interactive table.\"\n",
              "              style=\"display:none;\">\n",
              "        \n",
              "  <svg xmlns=\"http://www.w3.org/2000/svg\" height=\"24px\"viewBox=\"0 0 24 24\"\n",
              "       width=\"24px\">\n",
              "    <path d=\"M0 0h24v24H0V0z\" fill=\"none\"/>\n",
              "    <path d=\"M18.56 5.44l.94 2.06.94-2.06 2.06-.94-2.06-.94-.94-2.06-.94 2.06-2.06.94zm-11 1L8.5 8.5l.94-2.06 2.06-.94-2.06-.94L8.5 2.5l-.94 2.06-2.06.94zm10 10l.94 2.06.94-2.06 2.06-.94-2.06-.94-.94-2.06-.94 2.06-2.06.94z\"/><path d=\"M17.41 7.96l-1.37-1.37c-.4-.4-.92-.59-1.43-.59-.52 0-1.04.2-1.43.59L10.3 9.45l-7.72 7.72c-.78.78-.78 2.05 0 2.83L4 21.41c.39.39.9.59 1.41.59.51 0 1.02-.2 1.41-.59l7.78-7.78 2.81-2.81c.8-.78.8-2.07 0-2.86zM5.41 20L4 18.59l7.72-7.72 1.47 1.35L5.41 20z\"/>\n",
              "  </svg>\n",
              "      </button>\n",
              "      \n",
              "  <style>\n",
              "    .colab-df-container {\n",
              "      display:flex;\n",
              "      flex-wrap:wrap;\n",
              "      gap: 12px;\n",
              "    }\n",
              "\n",
              "    .colab-df-convert {\n",
              "      background-color: #E8F0FE;\n",
              "      border: none;\n",
              "      border-radius: 50%;\n",
              "      cursor: pointer;\n",
              "      display: none;\n",
              "      fill: #1967D2;\n",
              "      height: 32px;\n",
              "      padding: 0 0 0 0;\n",
              "      width: 32px;\n",
              "    }\n",
              "\n",
              "    .colab-df-convert:hover {\n",
              "      background-color: #E2EBFA;\n",
              "      box-shadow: 0px 1px 2px rgba(60, 64, 67, 0.3), 0px 1px 3px 1px rgba(60, 64, 67, 0.15);\n",
              "      fill: #174EA6;\n",
              "    }\n",
              "\n",
              "    [theme=dark] .colab-df-convert {\n",
              "      background-color: #3B4455;\n",
              "      fill: #D2E3FC;\n",
              "    }\n",
              "\n",
              "    [theme=dark] .colab-df-convert:hover {\n",
              "      background-color: #434B5C;\n",
              "      box-shadow: 0px 1px 3px 1px rgba(0, 0, 0, 0.15);\n",
              "      filter: drop-shadow(0px 1px 2px rgba(0, 0, 0, 0.3));\n",
              "      fill: #FFFFFF;\n",
              "    }\n",
              "  </style>\n",
              "\n",
              "      <script>\n",
              "        const buttonEl =\n",
              "          document.querySelector('#df-85d1917d-1ed0-42c6-a9a2-c417dc2df1e3 button.colab-df-convert');\n",
              "        buttonEl.style.display =\n",
              "          google.colab.kernel.accessAllowed ? 'block' : 'none';\n",
              "\n",
              "        async function convertToInteractive(key) {\n",
              "          const element = document.querySelector('#df-85d1917d-1ed0-42c6-a9a2-c417dc2df1e3');\n",
              "          const dataTable =\n",
              "            await google.colab.kernel.invokeFunction('convertToInteractive',\n",
              "                                                     [key], {});\n",
              "          if (!dataTable) return;\n",
              "\n",
              "          const docLinkHtml = 'Like what you see? Visit the ' +\n",
              "            '<a target=\"_blank\" href=https://colab.research.google.com/notebooks/data_table.ipynb>data table notebook</a>'\n",
              "            + ' to learn more about interactive tables.';\n",
              "          element.innerHTML = '';\n",
              "          dataTable['output_type'] = 'display_data';\n",
              "          await google.colab.output.renderOutput(dataTable, element);\n",
              "          const docLink = document.createElement('div');\n",
              "          docLink.innerHTML = docLinkHtml;\n",
              "          element.appendChild(docLink);\n",
              "        }\n",
              "      </script>\n",
              "    </div>\n",
              "  </div>\n",
              "  "
            ]
          },
          "metadata": {},
          "execution_count": 22
        }
      ],
      "source": [
        "investigate_oilprice = pd.read_csv('/content/drive/My Drive/Crude Oil WTI Futures Historical Data.csv')\n",
        "investigate_oilprice.head()"
      ]
    },
    {
      "cell_type": "code",
      "execution_count": null,
      "metadata": {
        "colab": {
          "base_uri": "https://localhost:8080/",
          "height": 206
        },
        "id": "zfI7DmbXjgnu",
        "outputId": "8ac82609-8f2a-43a4-bfc5-76924bca24d9"
      },
      "outputs": [
        {
          "output_type": "execute_result",
          "data": {
            "text/plain": [
              "           Date   Price\n",
              "0  Apr 25, 2022   98.62\n",
              "1  Apr 24, 2022  100.53\n",
              "2  Apr 22, 2022  102.07\n",
              "3  Apr 21, 2022  103.79\n",
              "4  Apr 20, 2022  102.75"
            ],
            "text/html": [
              "\n",
              "  <div id=\"df-ccf38522-700b-4bbf-8435-4d61a3cf7093\">\n",
              "    <div class=\"colab-df-container\">\n",
              "      <div>\n",
              "<style scoped>\n",
              "    .dataframe tbody tr th:only-of-type {\n",
              "        vertical-align: middle;\n",
              "    }\n",
              "\n",
              "    .dataframe tbody tr th {\n",
              "        vertical-align: top;\n",
              "    }\n",
              "\n",
              "    .dataframe thead th {\n",
              "        text-align: right;\n",
              "    }\n",
              "</style>\n",
              "<table border=\"1\" class=\"dataframe\">\n",
              "  <thead>\n",
              "    <tr style=\"text-align: right;\">\n",
              "      <th></th>\n",
              "      <th>Date</th>\n",
              "      <th>Price</th>\n",
              "    </tr>\n",
              "  </thead>\n",
              "  <tbody>\n",
              "    <tr>\n",
              "      <th>0</th>\n",
              "      <td>Apr 25, 2022</td>\n",
              "      <td>98.62</td>\n",
              "    </tr>\n",
              "    <tr>\n",
              "      <th>1</th>\n",
              "      <td>Apr 24, 2022</td>\n",
              "      <td>100.53</td>\n",
              "    </tr>\n",
              "    <tr>\n",
              "      <th>2</th>\n",
              "      <td>Apr 22, 2022</td>\n",
              "      <td>102.07</td>\n",
              "    </tr>\n",
              "    <tr>\n",
              "      <th>3</th>\n",
              "      <td>Apr 21, 2022</td>\n",
              "      <td>103.79</td>\n",
              "    </tr>\n",
              "    <tr>\n",
              "      <th>4</th>\n",
              "      <td>Apr 20, 2022</td>\n",
              "      <td>102.75</td>\n",
              "    </tr>\n",
              "  </tbody>\n",
              "</table>\n",
              "</div>\n",
              "      <button class=\"colab-df-convert\" onclick=\"convertToInteractive('df-ccf38522-700b-4bbf-8435-4d61a3cf7093')\"\n",
              "              title=\"Convert this dataframe to an interactive table.\"\n",
              "              style=\"display:none;\">\n",
              "        \n",
              "  <svg xmlns=\"http://www.w3.org/2000/svg\" height=\"24px\"viewBox=\"0 0 24 24\"\n",
              "       width=\"24px\">\n",
              "    <path d=\"M0 0h24v24H0V0z\" fill=\"none\"/>\n",
              "    <path d=\"M18.56 5.44l.94 2.06.94-2.06 2.06-.94-2.06-.94-.94-2.06-.94 2.06-2.06.94zm-11 1L8.5 8.5l.94-2.06 2.06-.94-2.06-.94L8.5 2.5l-.94 2.06-2.06.94zm10 10l.94 2.06.94-2.06 2.06-.94-2.06-.94-.94-2.06-.94 2.06-2.06.94z\"/><path d=\"M17.41 7.96l-1.37-1.37c-.4-.4-.92-.59-1.43-.59-.52 0-1.04.2-1.43.59L10.3 9.45l-7.72 7.72c-.78.78-.78 2.05 0 2.83L4 21.41c.39.39.9.59 1.41.59.51 0 1.02-.2 1.41-.59l7.78-7.78 2.81-2.81c.8-.78.8-2.07 0-2.86zM5.41 20L4 18.59l7.72-7.72 1.47 1.35L5.41 20z\"/>\n",
              "  </svg>\n",
              "      </button>\n",
              "      \n",
              "  <style>\n",
              "    .colab-df-container {\n",
              "      display:flex;\n",
              "      flex-wrap:wrap;\n",
              "      gap: 12px;\n",
              "    }\n",
              "\n",
              "    .colab-df-convert {\n",
              "      background-color: #E8F0FE;\n",
              "      border: none;\n",
              "      border-radius: 50%;\n",
              "      cursor: pointer;\n",
              "      display: none;\n",
              "      fill: #1967D2;\n",
              "      height: 32px;\n",
              "      padding: 0 0 0 0;\n",
              "      width: 32px;\n",
              "    }\n",
              "\n",
              "    .colab-df-convert:hover {\n",
              "      background-color: #E2EBFA;\n",
              "      box-shadow: 0px 1px 2px rgba(60, 64, 67, 0.3), 0px 1px 3px 1px rgba(60, 64, 67, 0.15);\n",
              "      fill: #174EA6;\n",
              "    }\n",
              "\n",
              "    [theme=dark] .colab-df-convert {\n",
              "      background-color: #3B4455;\n",
              "      fill: #D2E3FC;\n",
              "    }\n",
              "\n",
              "    [theme=dark] .colab-df-convert:hover {\n",
              "      background-color: #434B5C;\n",
              "      box-shadow: 0px 1px 3px 1px rgba(0, 0, 0, 0.15);\n",
              "      filter: drop-shadow(0px 1px 2px rgba(0, 0, 0, 0.3));\n",
              "      fill: #FFFFFF;\n",
              "    }\n",
              "  </style>\n",
              "\n",
              "      <script>\n",
              "        const buttonEl =\n",
              "          document.querySelector('#df-ccf38522-700b-4bbf-8435-4d61a3cf7093 button.colab-df-convert');\n",
              "        buttonEl.style.display =\n",
              "          google.colab.kernel.accessAllowed ? 'block' : 'none';\n",
              "\n",
              "        async function convertToInteractive(key) {\n",
              "          const element = document.querySelector('#df-ccf38522-700b-4bbf-8435-4d61a3cf7093');\n",
              "          const dataTable =\n",
              "            await google.colab.kernel.invokeFunction('convertToInteractive',\n",
              "                                                     [key], {});\n",
              "          if (!dataTable) return;\n",
              "\n",
              "          const docLinkHtml = 'Like what you see? Visit the ' +\n",
              "            '<a target=\"_blank\" href=https://colab.research.google.com/notebooks/data_table.ipynb>data table notebook</a>'\n",
              "            + ' to learn more about interactive tables.';\n",
              "          element.innerHTML = '';\n",
              "          dataTable['output_type'] = 'display_data';\n",
              "          await google.colab.output.renderOutput(dataTable, element);\n",
              "          const docLink = document.createElement('div');\n",
              "          docLink.innerHTML = docLinkHtml;\n",
              "          element.appendChild(docLink);\n",
              "        }\n",
              "      </script>\n",
              "    </div>\n",
              "  </div>\n",
              "  "
            ]
          },
          "metadata": {},
          "execution_count": 23
        }
      ],
      "source": [
        "investigate_oilprice.drop(['Open', 'High', 'Low', 'Vol.', 'Change %'], axis=1,inplace=True)\n",
        "investigate_oilprice.head()"
      ]
    },
    {
      "cell_type": "code",
      "execution_count": null,
      "metadata": {
        "id": "69-6V90JkrZ-"
      },
      "outputs": [],
      "source": [
        "investigate_oilprice.rename(columns={\"Date\": \"date\"}, inplace=True)"
      ]
    },
    {
      "cell_type": "markdown",
      "metadata": {
        "id": "MjMdos3OcDNN"
      },
      "source": [
        "# Merging"
      ]
    },
    {
      "cell_type": "code",
      "execution_count": null,
      "metadata": {
        "colab": {
          "base_uri": "https://localhost:8080/",
          "height": 206
        },
        "id": "Q6cxCcRej-wA",
        "outputId": "a568fee1-bd3d-4adc-dbb9-93bdf5089425"
      },
      "outputs": [
        {
          "output_type": "execute_result",
          "data": {
            "text/plain": [
              "   Unnamed: 0                                           headline  \\\n",
              "0           0  Brent Crude Falls Below $100 On China Lockdown...   \n",
              "1           1  Chinese Oil Demand Set For 1.2 Million Bpd Plu...   \n",
              "2           2           Large Crude Draw Sends Oil Prices Higher   \n",
              "3           3  Oil Dips As IMF Slashes Economic Growth Forecasts   \n",
              "4           4  JPMorgan: Immediate EU Ban On Russian Oil Coul...   \n",
              "\n",
              "           date   Price  \n",
              "0  Apr 25, 2022   98.62  \n",
              "1  Apr 22, 2022  102.07  \n",
              "2  Apr 20, 2022  102.75  \n",
              "3  Apr 19, 2022  102.56  \n",
              "4  Apr 19, 2022  102.56  "
            ],
            "text/html": [
              "\n",
              "  <div id=\"df-d7d7a927-f1ef-445b-8654-e18a27e999ba\">\n",
              "    <div class=\"colab-df-container\">\n",
              "      <div>\n",
              "<style scoped>\n",
              "    .dataframe tbody tr th:only-of-type {\n",
              "        vertical-align: middle;\n",
              "    }\n",
              "\n",
              "    .dataframe tbody tr th {\n",
              "        vertical-align: top;\n",
              "    }\n",
              "\n",
              "    .dataframe thead th {\n",
              "        text-align: right;\n",
              "    }\n",
              "</style>\n",
              "<table border=\"1\" class=\"dataframe\">\n",
              "  <thead>\n",
              "    <tr style=\"text-align: right;\">\n",
              "      <th></th>\n",
              "      <th>Unnamed: 0</th>\n",
              "      <th>headline</th>\n",
              "      <th>date</th>\n",
              "      <th>Price</th>\n",
              "    </tr>\n",
              "  </thead>\n",
              "  <tbody>\n",
              "    <tr>\n",
              "      <th>0</th>\n",
              "      <td>0</td>\n",
              "      <td>Brent Crude Falls Below $100 On China Lockdown...</td>\n",
              "      <td>Apr 25, 2022</td>\n",
              "      <td>98.62</td>\n",
              "    </tr>\n",
              "    <tr>\n",
              "      <th>1</th>\n",
              "      <td>1</td>\n",
              "      <td>Chinese Oil Demand Set For 1.2 Million Bpd Plu...</td>\n",
              "      <td>Apr 22, 2022</td>\n",
              "      <td>102.07</td>\n",
              "    </tr>\n",
              "    <tr>\n",
              "      <th>2</th>\n",
              "      <td>2</td>\n",
              "      <td>Large Crude Draw Sends Oil Prices Higher</td>\n",
              "      <td>Apr 20, 2022</td>\n",
              "      <td>102.75</td>\n",
              "    </tr>\n",
              "    <tr>\n",
              "      <th>3</th>\n",
              "      <td>3</td>\n",
              "      <td>Oil Dips As IMF Slashes Economic Growth Forecasts</td>\n",
              "      <td>Apr 19, 2022</td>\n",
              "      <td>102.56</td>\n",
              "    </tr>\n",
              "    <tr>\n",
              "      <th>4</th>\n",
              "      <td>4</td>\n",
              "      <td>JPMorgan: Immediate EU Ban On Russian Oil Coul...</td>\n",
              "      <td>Apr 19, 2022</td>\n",
              "      <td>102.56</td>\n",
              "    </tr>\n",
              "  </tbody>\n",
              "</table>\n",
              "</div>\n",
              "      <button class=\"colab-df-convert\" onclick=\"convertToInteractive('df-d7d7a927-f1ef-445b-8654-e18a27e999ba')\"\n",
              "              title=\"Convert this dataframe to an interactive table.\"\n",
              "              style=\"display:none;\">\n",
              "        \n",
              "  <svg xmlns=\"http://www.w3.org/2000/svg\" height=\"24px\"viewBox=\"0 0 24 24\"\n",
              "       width=\"24px\">\n",
              "    <path d=\"M0 0h24v24H0V0z\" fill=\"none\"/>\n",
              "    <path d=\"M18.56 5.44l.94 2.06.94-2.06 2.06-.94-2.06-.94-.94-2.06-.94 2.06-2.06.94zm-11 1L8.5 8.5l.94-2.06 2.06-.94-2.06-.94L8.5 2.5l-.94 2.06-2.06.94zm10 10l.94 2.06.94-2.06 2.06-.94-2.06-.94-.94-2.06-.94 2.06-2.06.94z\"/><path d=\"M17.41 7.96l-1.37-1.37c-.4-.4-.92-.59-1.43-.59-.52 0-1.04.2-1.43.59L10.3 9.45l-7.72 7.72c-.78.78-.78 2.05 0 2.83L4 21.41c.39.39.9.59 1.41.59.51 0 1.02-.2 1.41-.59l7.78-7.78 2.81-2.81c.8-.78.8-2.07 0-2.86zM5.41 20L4 18.59l7.72-7.72 1.47 1.35L5.41 20z\"/>\n",
              "  </svg>\n",
              "      </button>\n",
              "      \n",
              "  <style>\n",
              "    .colab-df-container {\n",
              "      display:flex;\n",
              "      flex-wrap:wrap;\n",
              "      gap: 12px;\n",
              "    }\n",
              "\n",
              "    .colab-df-convert {\n",
              "      background-color: #E8F0FE;\n",
              "      border: none;\n",
              "      border-radius: 50%;\n",
              "      cursor: pointer;\n",
              "      display: none;\n",
              "      fill: #1967D2;\n",
              "      height: 32px;\n",
              "      padding: 0 0 0 0;\n",
              "      width: 32px;\n",
              "    }\n",
              "\n",
              "    .colab-df-convert:hover {\n",
              "      background-color: #E2EBFA;\n",
              "      box-shadow: 0px 1px 2px rgba(60, 64, 67, 0.3), 0px 1px 3px 1px rgba(60, 64, 67, 0.15);\n",
              "      fill: #174EA6;\n",
              "    }\n",
              "\n",
              "    [theme=dark] .colab-df-convert {\n",
              "      background-color: #3B4455;\n",
              "      fill: #D2E3FC;\n",
              "    }\n",
              "\n",
              "    [theme=dark] .colab-df-convert:hover {\n",
              "      background-color: #434B5C;\n",
              "      box-shadow: 0px 1px 3px 1px rgba(0, 0, 0, 0.15);\n",
              "      filter: drop-shadow(0px 1px 2px rgba(0, 0, 0, 0.3));\n",
              "      fill: #FFFFFF;\n",
              "    }\n",
              "  </style>\n",
              "\n",
              "      <script>\n",
              "        const buttonEl =\n",
              "          document.querySelector('#df-d7d7a927-f1ef-445b-8654-e18a27e999ba button.colab-df-convert');\n",
              "        buttonEl.style.display =\n",
              "          google.colab.kernel.accessAllowed ? 'block' : 'none';\n",
              "\n",
              "        async function convertToInteractive(key) {\n",
              "          const element = document.querySelector('#df-d7d7a927-f1ef-445b-8654-e18a27e999ba');\n",
              "          const dataTable =\n",
              "            await google.colab.kernel.invokeFunction('convertToInteractive',\n",
              "                                                     [key], {});\n",
              "          if (!dataTable) return;\n",
              "\n",
              "          const docLinkHtml = 'Like what you see? Visit the ' +\n",
              "            '<a target=\"_blank\" href=https://colab.research.google.com/notebooks/data_table.ipynb>data table notebook</a>'\n",
              "            + ' to learn more about interactive tables.';\n",
              "          element.innerHTML = '';\n",
              "          dataTable['output_type'] = 'display_data';\n",
              "          await google.colab.output.renderOutput(dataTable, element);\n",
              "          const docLink = document.createElement('div');\n",
              "          docLink.innerHTML = docLinkHtml;\n",
              "          element.appendChild(docLink);\n",
              "        }\n",
              "      </script>\n",
              "    </div>\n",
              "  </div>\n",
              "  "
            ]
          },
          "metadata": {},
          "execution_count": 25
        }
      ],
      "source": [
        "merged = pd.merge(oilprice,investigate_oilprice,on='date')\n",
        "merged.head()"
      ]
    },
    {
      "cell_type": "code",
      "execution_count": null,
      "metadata": {
        "id": "Tii571EZvw5y"
      },
      "outputs": [],
      "source": [
        "merged.drop(['Unnamed: 0'], axis=1,inplace=True)"
      ]
    },
    {
      "cell_type": "code",
      "execution_count": null,
      "metadata": {
        "id": "6K_8Yv3srmJQ"
      },
      "outputs": [],
      "source": [
        "# Merged = merged.groupby('date',as_index=False).apply(lambda x: x.sum())\n",
        "# Merged = merged.groupby('date',as_index=False).sum()\n",
        "Merged = merged.groupby(['date' , 'Price'], as_index=False).agg({'headline': ' '.join})"
      ]
    },
    {
      "cell_type": "code",
      "execution_count": null,
      "metadata": {
        "colab": {
          "base_uri": "https://localhost:8080/",
          "height": 423
        },
        "id": "IG7iKppGHh7E",
        "outputId": "554fd56a-7142-4ba7-9e60-97efb2fddd7f"
      },
      "outputs": [
        {
          "output_type": "execute_result",
          "data": {
            "text/plain": [
              "              date   Price                                           headline\n",
              "0     Apr 01, 2011  107.94  Cushing Storage Maxed Out: U.S. Crude Oil To H...\n",
              "1     Apr 01, 2015   50.09  Finally Some Good News For Oil Prices What If ...\n",
              "2     Apr 01, 2016   36.79  Oil Price Shock Might Not Be Far Away What Hap...\n",
              "3     Apr 01, 2020   20.31  Trump May Join Oil Talks Between Russia And Sa...\n",
              "4     Apr 01, 2022   99.27    Biden's SPR Release Sends Oil Prices Below $100\n",
              "...            ...     ...                                                ...\n",
              "1417  Sep 30, 2010   79.97            Prediction for the Next Oil Price Shock\n",
              "1418  Sep 30, 2016   48.24  OPEC Has Just Put A Floor Under Oil Prices Wil...\n",
              "1419  Sep 30, 2019   54.07  $300 Oil: What If The Attacks In Saudi Arabia ...\n",
              "1420  Sep 30, 2020   40.22  Oil Prices Rise After EIA Reports Small Crude ...\n",
              "1421  Sep 30, 2021   75.03  The Recent Oil Price Rally Can’t Be Justified ...\n",
              "\n",
              "[1422 rows x 3 columns]"
            ],
            "text/html": [
              "\n",
              "  <div id=\"df-3fd8173d-253b-4679-966b-09c245ffe7ff\">\n",
              "    <div class=\"colab-df-container\">\n",
              "      <div>\n",
              "<style scoped>\n",
              "    .dataframe tbody tr th:only-of-type {\n",
              "        vertical-align: middle;\n",
              "    }\n",
              "\n",
              "    .dataframe tbody tr th {\n",
              "        vertical-align: top;\n",
              "    }\n",
              "\n",
              "    .dataframe thead th {\n",
              "        text-align: right;\n",
              "    }\n",
              "</style>\n",
              "<table border=\"1\" class=\"dataframe\">\n",
              "  <thead>\n",
              "    <tr style=\"text-align: right;\">\n",
              "      <th></th>\n",
              "      <th>date</th>\n",
              "      <th>Price</th>\n",
              "      <th>headline</th>\n",
              "    </tr>\n",
              "  </thead>\n",
              "  <tbody>\n",
              "    <tr>\n",
              "      <th>0</th>\n",
              "      <td>Apr 01, 2011</td>\n",
              "      <td>107.94</td>\n",
              "      <td>Cushing Storage Maxed Out: U.S. Crude Oil To H...</td>\n",
              "    </tr>\n",
              "    <tr>\n",
              "      <th>1</th>\n",
              "      <td>Apr 01, 2015</td>\n",
              "      <td>50.09</td>\n",
              "      <td>Finally Some Good News For Oil Prices What If ...</td>\n",
              "    </tr>\n",
              "    <tr>\n",
              "      <th>2</th>\n",
              "      <td>Apr 01, 2016</td>\n",
              "      <td>36.79</td>\n",
              "      <td>Oil Price Shock Might Not Be Far Away What Hap...</td>\n",
              "    </tr>\n",
              "    <tr>\n",
              "      <th>3</th>\n",
              "      <td>Apr 01, 2020</td>\n",
              "      <td>20.31</td>\n",
              "      <td>Trump May Join Oil Talks Between Russia And Sa...</td>\n",
              "    </tr>\n",
              "    <tr>\n",
              "      <th>4</th>\n",
              "      <td>Apr 01, 2022</td>\n",
              "      <td>99.27</td>\n",
              "      <td>Biden's SPR Release Sends Oil Prices Below $100</td>\n",
              "    </tr>\n",
              "    <tr>\n",
              "      <th>...</th>\n",
              "      <td>...</td>\n",
              "      <td>...</td>\n",
              "      <td>...</td>\n",
              "    </tr>\n",
              "    <tr>\n",
              "      <th>1417</th>\n",
              "      <td>Sep 30, 2010</td>\n",
              "      <td>79.97</td>\n",
              "      <td>Prediction for the Next Oil Price Shock</td>\n",
              "    </tr>\n",
              "    <tr>\n",
              "      <th>1418</th>\n",
              "      <td>Sep 30, 2016</td>\n",
              "      <td>48.24</td>\n",
              "      <td>OPEC Has Just Put A Floor Under Oil Prices Wil...</td>\n",
              "    </tr>\n",
              "    <tr>\n",
              "      <th>1419</th>\n",
              "      <td>Sep 30, 2019</td>\n",
              "      <td>54.07</td>\n",
              "      <td>$300 Oil: What If The Attacks In Saudi Arabia ...</td>\n",
              "    </tr>\n",
              "    <tr>\n",
              "      <th>1420</th>\n",
              "      <td>Sep 30, 2020</td>\n",
              "      <td>40.22</td>\n",
              "      <td>Oil Prices Rise After EIA Reports Small Crude ...</td>\n",
              "    </tr>\n",
              "    <tr>\n",
              "      <th>1421</th>\n",
              "      <td>Sep 30, 2021</td>\n",
              "      <td>75.03</td>\n",
              "      <td>The Recent Oil Price Rally Can’t Be Justified ...</td>\n",
              "    </tr>\n",
              "  </tbody>\n",
              "</table>\n",
              "<p>1422 rows × 3 columns</p>\n",
              "</div>\n",
              "      <button class=\"colab-df-convert\" onclick=\"convertToInteractive('df-3fd8173d-253b-4679-966b-09c245ffe7ff')\"\n",
              "              title=\"Convert this dataframe to an interactive table.\"\n",
              "              style=\"display:none;\">\n",
              "        \n",
              "  <svg xmlns=\"http://www.w3.org/2000/svg\" height=\"24px\"viewBox=\"0 0 24 24\"\n",
              "       width=\"24px\">\n",
              "    <path d=\"M0 0h24v24H0V0z\" fill=\"none\"/>\n",
              "    <path d=\"M18.56 5.44l.94 2.06.94-2.06 2.06-.94-2.06-.94-.94-2.06-.94 2.06-2.06.94zm-11 1L8.5 8.5l.94-2.06 2.06-.94-2.06-.94L8.5 2.5l-.94 2.06-2.06.94zm10 10l.94 2.06.94-2.06 2.06-.94-2.06-.94-.94-2.06-.94 2.06-2.06.94z\"/><path d=\"M17.41 7.96l-1.37-1.37c-.4-.4-.92-.59-1.43-.59-.52 0-1.04.2-1.43.59L10.3 9.45l-7.72 7.72c-.78.78-.78 2.05 0 2.83L4 21.41c.39.39.9.59 1.41.59.51 0 1.02-.2 1.41-.59l7.78-7.78 2.81-2.81c.8-.78.8-2.07 0-2.86zM5.41 20L4 18.59l7.72-7.72 1.47 1.35L5.41 20z\"/>\n",
              "  </svg>\n",
              "      </button>\n",
              "      \n",
              "  <style>\n",
              "    .colab-df-container {\n",
              "      display:flex;\n",
              "      flex-wrap:wrap;\n",
              "      gap: 12px;\n",
              "    }\n",
              "\n",
              "    .colab-df-convert {\n",
              "      background-color: #E8F0FE;\n",
              "      border: none;\n",
              "      border-radius: 50%;\n",
              "      cursor: pointer;\n",
              "      display: none;\n",
              "      fill: #1967D2;\n",
              "      height: 32px;\n",
              "      padding: 0 0 0 0;\n",
              "      width: 32px;\n",
              "    }\n",
              "\n",
              "    .colab-df-convert:hover {\n",
              "      background-color: #E2EBFA;\n",
              "      box-shadow: 0px 1px 2px rgba(60, 64, 67, 0.3), 0px 1px 3px 1px rgba(60, 64, 67, 0.15);\n",
              "      fill: #174EA6;\n",
              "    }\n",
              "\n",
              "    [theme=dark] .colab-df-convert {\n",
              "      background-color: #3B4455;\n",
              "      fill: #D2E3FC;\n",
              "    }\n",
              "\n",
              "    [theme=dark] .colab-df-convert:hover {\n",
              "      background-color: #434B5C;\n",
              "      box-shadow: 0px 1px 3px 1px rgba(0, 0, 0, 0.15);\n",
              "      filter: drop-shadow(0px 1px 2px rgba(0, 0, 0, 0.3));\n",
              "      fill: #FFFFFF;\n",
              "    }\n",
              "  </style>\n",
              "\n",
              "      <script>\n",
              "        const buttonEl =\n",
              "          document.querySelector('#df-3fd8173d-253b-4679-966b-09c245ffe7ff button.colab-df-convert');\n",
              "        buttonEl.style.display =\n",
              "          google.colab.kernel.accessAllowed ? 'block' : 'none';\n",
              "\n",
              "        async function convertToInteractive(key) {\n",
              "          const element = document.querySelector('#df-3fd8173d-253b-4679-966b-09c245ffe7ff');\n",
              "          const dataTable =\n",
              "            await google.colab.kernel.invokeFunction('convertToInteractive',\n",
              "                                                     [key], {});\n",
              "          if (!dataTable) return;\n",
              "\n",
              "          const docLinkHtml = 'Like what you see? Visit the ' +\n",
              "            '<a target=\"_blank\" href=https://colab.research.google.com/notebooks/data_table.ipynb>data table notebook</a>'\n",
              "            + ' to learn more about interactive tables.';\n",
              "          element.innerHTML = '';\n",
              "          dataTable['output_type'] = 'display_data';\n",
              "          await google.colab.output.renderOutput(dataTable, element);\n",
              "          const docLink = document.createElement('div');\n",
              "          docLink.innerHTML = docLinkHtml;\n",
              "          element.appendChild(docLink);\n",
              "        }\n",
              "      </script>\n",
              "    </div>\n",
              "  </div>\n",
              "  "
            ]
          },
          "metadata": {},
          "execution_count": 28
        }
      ],
      "source": [
        "Merged"
      ]
    },
    {
      "cell_type": "code",
      "execution_count": null,
      "metadata": {
        "id": "k4WL3_3Jzxy7"
      },
      "outputs": [],
      "source": [
        "# for i in Merged.duplicated(subset=['headline']):\n",
        "#   if i:\n",
        "#     print(i)"
      ]
    },
    {
      "cell_type": "code",
      "execution_count": null,
      "metadata": {
        "id": "1_6xjx033pMe"
      },
      "outputs": [],
      "source": [
        "# string to date object\n",
        "Date=[]\n",
        "for d in Merged['date']:\n",
        "  try:\n",
        "    Date.append(datetime.strptime(d, '%b %d, %Y'))\n",
        "  except ValueError:\n",
        "    print(d)"
      ]
    },
    {
      "cell_type": "code",
      "execution_count": null,
      "metadata": {
        "id": "RpcBL56U2UQI"
      },
      "outputs": [],
      "source": [
        "Merged['Date']=Date\n",
        "Merged.drop(['date'], axis=1,inplace=True)"
      ]
    },
    {
      "cell_type": "code",
      "execution_count": null,
      "metadata": {
        "id": "pwFuZcJpJ-G7"
      },
      "outputs": [],
      "source": [
        "Merged.sort_values(by=['Date'],inplace=True)"
      ]
    },
    {
      "cell_type": "code",
      "execution_count": null,
      "metadata": {
        "colab": {
          "base_uri": "https://localhost:8080/",
          "height": 206
        },
        "id": "G6fcnYkMM6m1",
        "outputId": "9d14e511-0623-4f90-ec44-a0d73bfcad6b"
      },
      "outputs": [
        {
          "output_type": "execute_result",
          "data": {
            "text/plain": [
              "      Price                                           headline       Date\n",
              "1160  77.96  New Techniques Oil Companies are Using in Dril... 2009-11-25\n",
              "355   79.28  Petro Unfriendly California Changing it's Stan... 2009-12-30\n",
              "507   82.75               What Happens When the Wells Run Dry? 2010-01-08\n",
              "593   73.64  Are Official Estimates of Oil Reserves Correct... 2010-01-28\n",
              "385   71.89        Endless Oil: Prices NOT Peaks are the Issue 2010-02-08"
            ],
            "text/html": [
              "\n",
              "  <div id=\"df-55f3c2a8-9021-4745-8790-c331105e913a\">\n",
              "    <div class=\"colab-df-container\">\n",
              "      <div>\n",
              "<style scoped>\n",
              "    .dataframe tbody tr th:only-of-type {\n",
              "        vertical-align: middle;\n",
              "    }\n",
              "\n",
              "    .dataframe tbody tr th {\n",
              "        vertical-align: top;\n",
              "    }\n",
              "\n",
              "    .dataframe thead th {\n",
              "        text-align: right;\n",
              "    }\n",
              "</style>\n",
              "<table border=\"1\" class=\"dataframe\">\n",
              "  <thead>\n",
              "    <tr style=\"text-align: right;\">\n",
              "      <th></th>\n",
              "      <th>Price</th>\n",
              "      <th>headline</th>\n",
              "      <th>Date</th>\n",
              "    </tr>\n",
              "  </thead>\n",
              "  <tbody>\n",
              "    <tr>\n",
              "      <th>1160</th>\n",
              "      <td>77.96</td>\n",
              "      <td>New Techniques Oil Companies are Using in Dril...</td>\n",
              "      <td>2009-11-25</td>\n",
              "    </tr>\n",
              "    <tr>\n",
              "      <th>355</th>\n",
              "      <td>79.28</td>\n",
              "      <td>Petro Unfriendly California Changing it's Stan...</td>\n",
              "      <td>2009-12-30</td>\n",
              "    </tr>\n",
              "    <tr>\n",
              "      <th>507</th>\n",
              "      <td>82.75</td>\n",
              "      <td>What Happens When the Wells Run Dry?</td>\n",
              "      <td>2010-01-08</td>\n",
              "    </tr>\n",
              "    <tr>\n",
              "      <th>593</th>\n",
              "      <td>73.64</td>\n",
              "      <td>Are Official Estimates of Oil Reserves Correct...</td>\n",
              "      <td>2010-01-28</td>\n",
              "    </tr>\n",
              "    <tr>\n",
              "      <th>385</th>\n",
              "      <td>71.89</td>\n",
              "      <td>Endless Oil: Prices NOT Peaks are the Issue</td>\n",
              "      <td>2010-02-08</td>\n",
              "    </tr>\n",
              "  </tbody>\n",
              "</table>\n",
              "</div>\n",
              "      <button class=\"colab-df-convert\" onclick=\"convertToInteractive('df-55f3c2a8-9021-4745-8790-c331105e913a')\"\n",
              "              title=\"Convert this dataframe to an interactive table.\"\n",
              "              style=\"display:none;\">\n",
              "        \n",
              "  <svg xmlns=\"http://www.w3.org/2000/svg\" height=\"24px\"viewBox=\"0 0 24 24\"\n",
              "       width=\"24px\">\n",
              "    <path d=\"M0 0h24v24H0V0z\" fill=\"none\"/>\n",
              "    <path d=\"M18.56 5.44l.94 2.06.94-2.06 2.06-.94-2.06-.94-.94-2.06-.94 2.06-2.06.94zm-11 1L8.5 8.5l.94-2.06 2.06-.94-2.06-.94L8.5 2.5l-.94 2.06-2.06.94zm10 10l.94 2.06.94-2.06 2.06-.94-2.06-.94-.94-2.06-.94 2.06-2.06.94z\"/><path d=\"M17.41 7.96l-1.37-1.37c-.4-.4-.92-.59-1.43-.59-.52 0-1.04.2-1.43.59L10.3 9.45l-7.72 7.72c-.78.78-.78 2.05 0 2.83L4 21.41c.39.39.9.59 1.41.59.51 0 1.02-.2 1.41-.59l7.78-7.78 2.81-2.81c.8-.78.8-2.07 0-2.86zM5.41 20L4 18.59l7.72-7.72 1.47 1.35L5.41 20z\"/>\n",
              "  </svg>\n",
              "      </button>\n",
              "      \n",
              "  <style>\n",
              "    .colab-df-container {\n",
              "      display:flex;\n",
              "      flex-wrap:wrap;\n",
              "      gap: 12px;\n",
              "    }\n",
              "\n",
              "    .colab-df-convert {\n",
              "      background-color: #E8F0FE;\n",
              "      border: none;\n",
              "      border-radius: 50%;\n",
              "      cursor: pointer;\n",
              "      display: none;\n",
              "      fill: #1967D2;\n",
              "      height: 32px;\n",
              "      padding: 0 0 0 0;\n",
              "      width: 32px;\n",
              "    }\n",
              "\n",
              "    .colab-df-convert:hover {\n",
              "      background-color: #E2EBFA;\n",
              "      box-shadow: 0px 1px 2px rgba(60, 64, 67, 0.3), 0px 1px 3px 1px rgba(60, 64, 67, 0.15);\n",
              "      fill: #174EA6;\n",
              "    }\n",
              "\n",
              "    [theme=dark] .colab-df-convert {\n",
              "      background-color: #3B4455;\n",
              "      fill: #D2E3FC;\n",
              "    }\n",
              "\n",
              "    [theme=dark] .colab-df-convert:hover {\n",
              "      background-color: #434B5C;\n",
              "      box-shadow: 0px 1px 3px 1px rgba(0, 0, 0, 0.15);\n",
              "      filter: drop-shadow(0px 1px 2px rgba(0, 0, 0, 0.3));\n",
              "      fill: #FFFFFF;\n",
              "    }\n",
              "  </style>\n",
              "\n",
              "      <script>\n",
              "        const buttonEl =\n",
              "          document.querySelector('#df-55f3c2a8-9021-4745-8790-c331105e913a button.colab-df-convert');\n",
              "        buttonEl.style.display =\n",
              "          google.colab.kernel.accessAllowed ? 'block' : 'none';\n",
              "\n",
              "        async function convertToInteractive(key) {\n",
              "          const element = document.querySelector('#df-55f3c2a8-9021-4745-8790-c331105e913a');\n",
              "          const dataTable =\n",
              "            await google.colab.kernel.invokeFunction('convertToInteractive',\n",
              "                                                     [key], {});\n",
              "          if (!dataTable) return;\n",
              "\n",
              "          const docLinkHtml = 'Like what you see? Visit the ' +\n",
              "            '<a target=\"_blank\" href=https://colab.research.google.com/notebooks/data_table.ipynb>data table notebook</a>'\n",
              "            + ' to learn more about interactive tables.';\n",
              "          element.innerHTML = '';\n",
              "          dataTable['output_type'] = 'display_data';\n",
              "          await google.colab.output.renderOutput(dataTable, element);\n",
              "          const docLink = document.createElement('div');\n",
              "          docLink.innerHTML = docLinkHtml;\n",
              "          element.appendChild(docLink);\n",
              "        }\n",
              "      </script>\n",
              "    </div>\n",
              "  </div>\n",
              "  "
            ]
          },
          "metadata": {},
          "execution_count": 32
        }
      ],
      "source": [
        "Merged.head()"
      ]
    },
    {
      "cell_type": "code",
      "execution_count": null,
      "metadata": {
        "id": "Na-UjZYt0A2g"
      },
      "outputs": [],
      "source": [
        "# building target\n",
        "s =[]\n",
        "s.append(0)\n",
        "for i in range(1,len(Merged)):\n",
        "  if Merged['Price'][i]< Merged['Price'][i-1]:\n",
        "    s.append(0)\n",
        "  else:\n",
        "    s.append(1)"
      ]
    },
    {
      "cell_type": "code",
      "execution_count": null,
      "metadata": {
        "id": "zQO0C5V10_jd"
      },
      "outputs": [],
      "source": [
        "Merged['s']=s"
      ]
    },
    {
      "cell_type": "code",
      "source": [
        "Merged.head()"
      ],
      "metadata": {
        "colab": {
          "base_uri": "https://localhost:8080/",
          "height": 206
        },
        "id": "J7mY0dN-IO7e",
        "outputId": "1478616e-8800-44d0-b677-e655e0012915"
      },
      "execution_count": null,
      "outputs": [
        {
          "output_type": "execute_result",
          "data": {
            "text/plain": [
              "      Price                                           headline       Date  s\n",
              "1160  77.96  New Techniques Oil Companies are Using in Dril... 2009-11-25  0\n",
              "355   79.28  Petro Unfriendly California Changing it's Stan... 2009-12-30  0\n",
              "507   82.75               What Happens When the Wells Run Dry? 2010-01-08  0\n",
              "593   73.64  Are Official Estimates of Oil Reserves Correct... 2010-01-28  0\n",
              "385   71.89        Endless Oil: Prices NOT Peaks are the Issue 2010-02-08  1"
            ],
            "text/html": [
              "\n",
              "  <div id=\"df-8d0974f8-3fd3-4496-8b12-7fb303dd8126\">\n",
              "    <div class=\"colab-df-container\">\n",
              "      <div>\n",
              "<style scoped>\n",
              "    .dataframe tbody tr th:only-of-type {\n",
              "        vertical-align: middle;\n",
              "    }\n",
              "\n",
              "    .dataframe tbody tr th {\n",
              "        vertical-align: top;\n",
              "    }\n",
              "\n",
              "    .dataframe thead th {\n",
              "        text-align: right;\n",
              "    }\n",
              "</style>\n",
              "<table border=\"1\" class=\"dataframe\">\n",
              "  <thead>\n",
              "    <tr style=\"text-align: right;\">\n",
              "      <th></th>\n",
              "      <th>Price</th>\n",
              "      <th>headline</th>\n",
              "      <th>Date</th>\n",
              "      <th>s</th>\n",
              "    </tr>\n",
              "  </thead>\n",
              "  <tbody>\n",
              "    <tr>\n",
              "      <th>1160</th>\n",
              "      <td>77.96</td>\n",
              "      <td>New Techniques Oil Companies are Using in Dril...</td>\n",
              "      <td>2009-11-25</td>\n",
              "      <td>0</td>\n",
              "    </tr>\n",
              "    <tr>\n",
              "      <th>355</th>\n",
              "      <td>79.28</td>\n",
              "      <td>Petro Unfriendly California Changing it's Stan...</td>\n",
              "      <td>2009-12-30</td>\n",
              "      <td>0</td>\n",
              "    </tr>\n",
              "    <tr>\n",
              "      <th>507</th>\n",
              "      <td>82.75</td>\n",
              "      <td>What Happens When the Wells Run Dry?</td>\n",
              "      <td>2010-01-08</td>\n",
              "      <td>0</td>\n",
              "    </tr>\n",
              "    <tr>\n",
              "      <th>593</th>\n",
              "      <td>73.64</td>\n",
              "      <td>Are Official Estimates of Oil Reserves Correct...</td>\n",
              "      <td>2010-01-28</td>\n",
              "      <td>0</td>\n",
              "    </tr>\n",
              "    <tr>\n",
              "      <th>385</th>\n",
              "      <td>71.89</td>\n",
              "      <td>Endless Oil: Prices NOT Peaks are the Issue</td>\n",
              "      <td>2010-02-08</td>\n",
              "      <td>1</td>\n",
              "    </tr>\n",
              "  </tbody>\n",
              "</table>\n",
              "</div>\n",
              "      <button class=\"colab-df-convert\" onclick=\"convertToInteractive('df-8d0974f8-3fd3-4496-8b12-7fb303dd8126')\"\n",
              "              title=\"Convert this dataframe to an interactive table.\"\n",
              "              style=\"display:none;\">\n",
              "        \n",
              "  <svg xmlns=\"http://www.w3.org/2000/svg\" height=\"24px\"viewBox=\"0 0 24 24\"\n",
              "       width=\"24px\">\n",
              "    <path d=\"M0 0h24v24H0V0z\" fill=\"none\"/>\n",
              "    <path d=\"M18.56 5.44l.94 2.06.94-2.06 2.06-.94-2.06-.94-.94-2.06-.94 2.06-2.06.94zm-11 1L8.5 8.5l.94-2.06 2.06-.94-2.06-.94L8.5 2.5l-.94 2.06-2.06.94zm10 10l.94 2.06.94-2.06 2.06-.94-2.06-.94-.94-2.06-.94 2.06-2.06.94z\"/><path d=\"M17.41 7.96l-1.37-1.37c-.4-.4-.92-.59-1.43-.59-.52 0-1.04.2-1.43.59L10.3 9.45l-7.72 7.72c-.78.78-.78 2.05 0 2.83L4 21.41c.39.39.9.59 1.41.59.51 0 1.02-.2 1.41-.59l7.78-7.78 2.81-2.81c.8-.78.8-2.07 0-2.86zM5.41 20L4 18.59l7.72-7.72 1.47 1.35L5.41 20z\"/>\n",
              "  </svg>\n",
              "      </button>\n",
              "      \n",
              "  <style>\n",
              "    .colab-df-container {\n",
              "      display:flex;\n",
              "      flex-wrap:wrap;\n",
              "      gap: 12px;\n",
              "    }\n",
              "\n",
              "    .colab-df-convert {\n",
              "      background-color: #E8F0FE;\n",
              "      border: none;\n",
              "      border-radius: 50%;\n",
              "      cursor: pointer;\n",
              "      display: none;\n",
              "      fill: #1967D2;\n",
              "      height: 32px;\n",
              "      padding: 0 0 0 0;\n",
              "      width: 32px;\n",
              "    }\n",
              "\n",
              "    .colab-df-convert:hover {\n",
              "      background-color: #E2EBFA;\n",
              "      box-shadow: 0px 1px 2px rgba(60, 64, 67, 0.3), 0px 1px 3px 1px rgba(60, 64, 67, 0.15);\n",
              "      fill: #174EA6;\n",
              "    }\n",
              "\n",
              "    [theme=dark] .colab-df-convert {\n",
              "      background-color: #3B4455;\n",
              "      fill: #D2E3FC;\n",
              "    }\n",
              "\n",
              "    [theme=dark] .colab-df-convert:hover {\n",
              "      background-color: #434B5C;\n",
              "      box-shadow: 0px 1px 3px 1px rgba(0, 0, 0, 0.15);\n",
              "      filter: drop-shadow(0px 1px 2px rgba(0, 0, 0, 0.3));\n",
              "      fill: #FFFFFF;\n",
              "    }\n",
              "  </style>\n",
              "\n",
              "      <script>\n",
              "        const buttonEl =\n",
              "          document.querySelector('#df-8d0974f8-3fd3-4496-8b12-7fb303dd8126 button.colab-df-convert');\n",
              "        buttonEl.style.display =\n",
              "          google.colab.kernel.accessAllowed ? 'block' : 'none';\n",
              "\n",
              "        async function convertToInteractive(key) {\n",
              "          const element = document.querySelector('#df-8d0974f8-3fd3-4496-8b12-7fb303dd8126');\n",
              "          const dataTable =\n",
              "            await google.colab.kernel.invokeFunction('convertToInteractive',\n",
              "                                                     [key], {});\n",
              "          if (!dataTable) return;\n",
              "\n",
              "          const docLinkHtml = 'Like what you see? Visit the ' +\n",
              "            '<a target=\"_blank\" href=https://colab.research.google.com/notebooks/data_table.ipynb>data table notebook</a>'\n",
              "            + ' to learn more about interactive tables.';\n",
              "          element.innerHTML = '';\n",
              "          dataTable['output_type'] = 'display_data';\n",
              "          await google.colab.output.renderOutput(dataTable, element);\n",
              "          const docLink = document.createElement('div');\n",
              "          docLink.innerHTML = docLinkHtml;\n",
              "          element.appendChild(docLink);\n",
              "        }\n",
              "      </script>\n",
              "    </div>\n",
              "  </div>\n",
              "  "
            ]
          },
          "metadata": {},
          "execution_count": 35
        }
      ]
    },
    {
      "cell_type": "markdown",
      "metadata": {
        "id": "3JOLWO_McOU8"
      },
      "source": [
        "# Balance checking"
      ]
    },
    {
      "cell_type": "code",
      "execution_count": null,
      "metadata": {
        "colab": {
          "base_uri": "https://localhost:8080/"
        },
        "id": "WNb1NfqRNks3",
        "outputId": "6508ac33-33da-4c7d-aee3-01795fa862d2"
      },
      "outputs": [
        {
          "output_type": "stream",
          "name": "stdout",
          "text": [
            "664\n",
            "758\n"
          ]
        }
      ],
      "source": [
        "#Balance\n",
        "cz=0\n",
        "co=0\n",
        "for i in s:\n",
        "  if i == 0:\n",
        "    cz=cz+1\n",
        "  else:\n",
        "    co=co+1\n",
        "print(cz)\n",
        "print(co)"
      ]
    },
    {
      "cell_type": "code",
      "execution_count": null,
      "metadata": {
        "colab": {
          "base_uri": "https://localhost:8080/"
        },
        "id": "odNQz8b1N_J5",
        "outputId": "500d3256-43a2-4ecc-84b0-cb46bb807e3d"
      },
      "outputs": [
        {
          "output_type": "execute_result",
          "data": {
            "text/plain": [
              "1422"
            ]
          },
          "metadata": {},
          "execution_count": 37
        }
      ],
      "source": [
        "len(Merged)"
      ]
    },
    {
      "cell_type": "markdown",
      "metadata": {
        "id": "vNJYRdu0b858"
      },
      "source": [
        "# PreProcessing"
      ]
    },
    {
      "cell_type": "code",
      "execution_count": null,
      "metadata": {
        "colab": {
          "base_uri": "https://localhost:8080/"
        },
        "id": "5X-x6inmVvoQ",
        "outputId": "3d0272fd-6d78-4765-f3c1-49a7c039b3cc"
      },
      "outputs": [
        {
          "output_type": "stream",
          "name": "stdout",
          "text": [
            "[nltk_data] Downloading package stopwords to /root/nltk_data...\n",
            "[nltk_data]   Package stopwords is already up-to-date!\n",
            "[nltk_data] Downloading package punkt to /root/nltk_data...\n",
            "[nltk_data]   Unzipping tokenizers/punkt.zip.\n"
          ]
        },
        {
          "output_type": "execute_result",
          "data": {
            "text/plain": [
              "True"
            ]
          },
          "metadata": {},
          "execution_count": 41
        }
      ],
      "source": [
        "import nltk\n",
        "nltk.download('stopwords')\n",
        "nltk.download('punkt')"
      ]
    },
    {
      "cell_type": "code",
      "execution_count": null,
      "metadata": {
        "id": "mXwyQvJvXfLy"
      },
      "outputs": [],
      "source": [
        "import re\n",
        "from nltk.tokenize import word_tokenize\n",
        "from string import punctuation \n",
        "from nltk.corpus import stopwords\n",
        "#nltk.download('stopwords')\n",
        "from nltk.stem.porter import *\n",
        "\n",
        "preprocessed=[]\n",
        "for txt in Merged['headline']:\n",
        "  txt = txt.lower() # convert text to lower-case\n",
        "  txt = re.sub('((www\\.[^\\s]+)|(https?://[^\\s]+))', 'URL', txt) # remove URLs\n",
        "  txt = re.sub('@[^\\s]+', 'AT_USER', txt) # remove usernames\n",
        "  txt = re.sub(\" \\d+\", \" \", txt) #remove digits\n",
        "  txt = re.sub(r'#([^\\s]+)', r'\\1', txt) # remove the # in #hashtag\n",
        "  txt = word_tokenize(txt)\n",
        "  final = [word for word in txt if not word in stopwords.words() and len(word)>=3] #stop words\n",
        "  preprocessed.append(final)"
      ]
    },
    {
      "cell_type": "code",
      "execution_count": null,
      "metadata": {
        "id": "CuV8Q2bCbVYq"
      },
      "outputs": [],
      "source": [
        "data = pd.DataFrame(preprocessed).fillna('0')"
      ]
    },
    {
      "cell_type": "markdown",
      "metadata": {
        "id": "0fVD3gBfcVPf"
      },
      "source": [
        "# Embedding"
      ]
    },
    {
      "cell_type": "code",
      "execution_count": null,
      "metadata": {
        "colab": {
          "base_uri": "https://localhost:8080/"
        },
        "id": "NtF6dKW_cW6T",
        "outputId": "99a458b0-7edf-4f07-f9cf-dbacbfa44f33"
      },
      "outputs": [
        {
          "output_type": "stream",
          "name": "stdout",
          "text": [
            "Requirement already satisfied: gensim in /usr/local/lib/python3.7/dist-packages (3.6.0)\n",
            "Requirement already satisfied: six>=1.5.0 in /usr/local/lib/python3.7/dist-packages (from gensim) (1.15.0)\n",
            "Requirement already satisfied: scipy>=0.18.1 in /usr/local/lib/python3.7/dist-packages (from gensim) (1.4.1)\n",
            "Requirement already satisfied: smart-open>=1.2.1 in /usr/local/lib/python3.7/dist-packages (from gensim) (5.2.1)\n",
            "Requirement already satisfied: numpy>=1.11.3 in /usr/local/lib/python3.7/dist-packages (from gensim) (1.21.6)\n"
          ]
        }
      ],
      "source": [
        "!pip install gensim"
      ]
    },
    {
      "cell_type": "code",
      "execution_count": null,
      "metadata": {
        "id": "6A3pow6VfZ9p"
      },
      "outputs": [],
      "source": [
        "import gensim\n",
        "from gensim.models import Word2Vec"
      ]
    },
    {
      "cell_type": "code",
      "execution_count": null,
      "metadata": {
        "id": "9DRD4sKdhsNQ"
      },
      "outputs": [],
      "source": [
        "word2vec = gensim.models.Word2Vec(data.values.tolist())"
      ]
    },
    {
      "cell_type": "code",
      "execution_count": null,
      "metadata": {
        "id": "E80y9YWsfaF2"
      },
      "outputs": [],
      "source": [
        "vocabulary = word2vec.wv.vocab\n",
        "#vocabulary"
      ]
    },
    {
      "cell_type": "code",
      "execution_count": null,
      "metadata": {
        "colab": {
          "base_uri": "https://localhost:8080/"
        },
        "id": "huEc8xWfkJ8h",
        "outputId": "7a5ee24c-d7ed-474f-c1ca-87f792c67074"
      },
      "outputs": [
        {
          "output_type": "execute_result",
          "data": {
            "text/plain": [
              "100"
            ]
          },
          "metadata": {},
          "execution_count": 48
        }
      ],
      "source": [
        "len(word2vec.wv['0'])"
      ]
    },
    {
      "cell_type": "code",
      "execution_count": null,
      "metadata": {
        "id": "RmGxNBcUn_Wi"
      },
      "outputs": [],
      "source": [
        "import numpy as np\n",
        "Data = []\n",
        "for row in data.values.tolist():\n",
        "  tmp=[]\n",
        "  for word in row:\n",
        "    if word in vocabulary:\n",
        "      tmp.append(word2vec.wv[word])\n",
        "    else:\n",
        "      tmp.append(word2vec.wv['0'])\n",
        "  Data.append(tmp)"
      ]
    },
    {
      "cell_type": "code",
      "execution_count": null,
      "metadata": {
        "colab": {
          "base_uri": "https://localhost:8080/",
          "height": 1000
        },
        "id": "nqSGIZHfjNe4",
        "outputId": "4e2e301d-7f5d-41ca-f084-0fa01cf3320c"
      },
      "outputs": [
        {
          "output_type": "execute_result",
          "data": {
            "text/plain": [
              "                                                     0   \\\n",
              "0     [0.08888887, 0.48992577, 0.012810764, 0.035572...   \n",
              "1     [0.26077336, 1.188104, 0.09751854, 0.2168447, ...   \n",
              "2     [0.03250283, 0.16924834, 0.0030456744, 0.00388...   \n",
              "3     [0.26077336, 1.188104, 0.09751854, 0.2168447, ...   \n",
              "4     [0.26077336, 1.188104, 0.09751854, 0.2168447, ...   \n",
              "...                                                 ...   \n",
              "1417  [0.18883562, 0.9032818, 0.055079054, 0.1169932...   \n",
              "1418  [0.18883562, 0.9032818, 0.055079054, 0.1169932...   \n",
              "1419  [0.26077336, 1.188104, 0.09751854, 0.2168447, ...   \n",
              "1420  [0.03727776, 0.22189884, 0.0023675282, 0.01252...   \n",
              "1421  [0.10086717, 0.49686003, 0.015339475, 0.053489...   \n",
              "\n",
              "                                                     1   \\\n",
              "0     [0.26077336, 1.188104, 0.09751854, 0.2168447, ...   \n",
              "1     [0.26077336, 1.188104, 0.09751854, 0.2168447, ...   \n",
              "2     [0.26077336, 1.188104, 0.09751854, 0.2168447, ...   \n",
              "3     [0.26077336, 1.188104, 0.09751854, 0.2168447, ...   \n",
              "4     [0.18883562, 0.9032818, 0.055079054, 0.1169932...   \n",
              "...                                                 ...   \n",
              "1417  [0.18575901, 0.862208, 0.03950022, 0.12141003,...   \n",
              "1418  [0.02791634, 0.17347814, 0.0035953803, 0.00683...   \n",
              "1419  [0.14994027, 0.76710474, 0.031304684, 0.086680...   \n",
              "1420  [0.18883562, 0.9032818, 0.055079054, 0.1169932...   \n",
              "1421  [0.14994027, 0.76710474, 0.031304684, 0.086680...   \n",
              "\n",
              "                                                     2   \\\n",
              "0     [0.18883562, 0.9032818, 0.055079054, 0.1169932...   \n",
              "1     [0.26077336, 1.188104, 0.09751854, 0.2168447, ...   \n",
              "2     [0.03681914, 0.18459095, 0.009473712, 0.020247...   \n",
              "3     [0.18883562, 0.9032818, 0.055079054, 0.1169932...   \n",
              "4     [0.18575901, 0.862208, 0.03950022, 0.12141003,...   \n",
              "...                                                 ...   \n",
              "1417  [0.10613317, 0.53896886, 0.022835884, 0.065579...   \n",
              "1418  [0.029601408, 0.18428038, 0.0009793045, 0.0125...   \n",
              "1419  [0.014152533, 0.093702465, 0.00573952, 0.00329...   \n",
              "1420  [0.10756954, 0.5295615, 0.031045793, 0.0627847...   \n",
              "1421  [0.04718456, 0.2622166, 0.0076792375, 0.016847...   \n",
              "\n",
              "                                                     3   \\\n",
              "0     [0.03663623, 0.21539475, 0.005331595, 0.018540...   \n",
              "1     [0.26077336, 1.188104, 0.09751854, 0.2168447, ...   \n",
              "2     [0.26077336, 1.188104, 0.09751854, 0.2168447, ...   \n",
              "3     [0.26077336, 1.188104, 0.09751854, 0.2168447, ...   \n",
              "4     [0.26077336, 1.188104, 0.09751854, 0.2168447, ...   \n",
              "...                                                 ...   \n",
              "1417  [0.09759692, 0.5150388, 0.017710129, 0.0483393...   \n",
              "1418  [0.029541131, 0.17378637, 0.0053690625, 0.0117...   \n",
              "1419  [0.041567057, 0.20468718, 0.00582759, 0.013156...   \n",
              "1420  [0.09670928, 0.5381586, 0.011110904, 0.0393335...   \n",
              "1421  [0.09082552, 0.44887188, 0.022227501, 0.052860...   \n",
              "\n",
              "                                                     4   \\\n",
              "0     [0.26077336, 1.188104, 0.09751854, 0.2168447, ...   \n",
              "1     [0.26077336, 1.188104, 0.09751854, 0.2168447, ...   \n",
              "2     [0.26077336, 1.188104, 0.09751854, 0.2168447, ...   \n",
              "3     [0.26077336, 1.188104, 0.09751854, 0.2168447, ...   \n",
              "4     [0.26077336, 1.188104, 0.09751854, 0.2168447, ...   \n",
              "...                                                 ...   \n",
              "1417  [0.26077336, 1.188104, 0.09751854, 0.2168447, ...   \n",
              "1418  [0.072182655, 0.38151428, 0.009955413, 0.03886...   \n",
              "1419  [0.18883562, 0.9032818, 0.055079054, 0.1169932...   \n",
              "1420  [0.043495387, 0.22291009, 0.007296557, 0.01497...   \n",
              "1421  [0.063709706, 0.34179488, 0.007832243, 0.03674...   \n",
              "\n",
              "                                                     5   \\\n",
              "0     [0.010630372, 0.0879466, 0.0034074213, -0.0031...   \n",
              "1     [0.18883562, 0.9032818, 0.055079054, 0.1169932...   \n",
              "2     [0.26077336, 1.188104, 0.09751854, 0.2168447, ...   \n",
              "3     [0.03336419, 0.16652483, 0.006531925, 0.011266...   \n",
              "4     [0.26077336, 1.188104, 0.09751854, 0.2168447, ...   \n",
              "...                                                 ...   \n",
              "1417  [0.26077336, 1.188104, 0.09751854, 0.2168447, ...   \n",
              "1418  [0.040049657, 0.22702757, 0.0049039535, 0.0153...   \n",
              "1419  [0.18575901, 0.862208, 0.03950022, 0.12141003,...   \n",
              "1420  [0.028363636, 0.17150472, 0.0027623782, 0.0080...   \n",
              "1421  [0.26077336, 1.188104, 0.09751854, 0.2168447, ...   \n",
              "\n",
              "                                                     6   \\\n",
              "0     [0.18883562, 0.9032818, 0.055079054, 0.1169932...   \n",
              "1     [0.26077336, 1.188104, 0.09751854, 0.2168447, ...   \n",
              "2     [0.26077336, 1.188104, 0.09751854, 0.2168447, ...   \n",
              "3     [0.18883562, 0.9032818, 0.055079054, 0.1169932...   \n",
              "4     [0.26077336, 1.188104, 0.09751854, 0.2168447, ...   \n",
              "...                                                 ...   \n",
              "1417  [0.029947208, 0.14213347, 0.0012521141, 0.0107...   \n",
              "1418  [0.018676924, 0.12887248, 0.001298121, -0.0002...   \n",
              "1419  [0.09940718, 0.50613934, 0.03155659, 0.0644257...   \n",
              "1420  [0.05098984, 0.2599338, 0.00216954, 0.01372936...   \n",
              "1421  [0.04744849, 0.2663215, 0.0067726113, 0.026933...   \n",
              "\n",
              "                                                     7   \\\n",
              "0     [0.26077336, 1.188104, 0.09751854, 0.2168447, ...   \n",
              "1     [0.26077336, 1.188104, 0.09751854, 0.2168447, ...   \n",
              "2     [0.26077336, 1.188104, 0.09751854, 0.2168447, ...   \n",
              "3     [0.18575901, 0.862208, 0.03950022, 0.12141003,...   \n",
              "4     [0.26077336, 1.188104, 0.09751854, 0.2168447, ...   \n",
              "...                                                 ...   \n",
              "1417  [0.03005334, 0.15524505, 0.009412865, 0.015064...   \n",
              "1418  [0.26077336, 1.188104, 0.09751854, 0.2168447, ...   \n",
              "1419  [0.26077336, 1.188104, 0.09751854, 0.2168447, ...   \n",
              "1420  [0.019769909, 0.114734314, 0.0020841584, 0.011...   \n",
              "1421  [0.26077336, 1.188104, 0.09751854, 0.2168447, ...   \n",
              "\n",
              "                                                     8   \\\n",
              "0     [0.26077336, 1.188104, 0.09751854, 0.2168447, ...   \n",
              "1     [0.26077336, 1.188104, 0.09751854, 0.2168447, ...   \n",
              "2     [0.26077336, 1.188104, 0.09751854, 0.2168447, ...   \n",
              "3     [0.26077336, 1.188104, 0.09751854, 0.2168447, ...   \n",
              "4     [0.26077336, 1.188104, 0.09751854, 0.2168447, ...   \n",
              "...                                                 ...   \n",
              "1417  [0.26077336, 1.188104, 0.09751854, 0.2168447, ...   \n",
              "1418  [0.26077336, 1.188104, 0.09751854, 0.2168447, ...   \n",
              "1419  [0.26077336, 1.188104, 0.09751854, 0.2168447, ...   \n",
              "1420  [0.26077336, 1.188104, 0.09751854, 0.2168447, ...   \n",
              "1421  [0.26077336, 1.188104, 0.09751854, 0.2168447, ...   \n",
              "\n",
              "                                                     9   ...  \\\n",
              "0     [0.26077336, 1.188104, 0.09751854, 0.2168447, ...  ...   \n",
              "1     [0.26077336, 1.188104, 0.09751854, 0.2168447, ...  ...   \n",
              "2     [0.26077336, 1.188104, 0.09751854, 0.2168447, ...  ...   \n",
              "3     [0.26077336, 1.188104, 0.09751854, 0.2168447, ...  ...   \n",
              "4     [0.26077336, 1.188104, 0.09751854, 0.2168447, ...  ...   \n",
              "...                                                 ...  ...   \n",
              "1417  [0.26077336, 1.188104, 0.09751854, 0.2168447, ...  ...   \n",
              "1418  [0.030535597, 0.1776771, 0.0062757935, 0.00780...  ...   \n",
              "1419  [0.26077336, 1.188104, 0.09751854, 0.2168447, ...  ...   \n",
              "1420  [0.26077336, 1.188104, 0.09751854, 0.2168447, ...  ...   \n",
              "1421  [0.26077336, 1.188104, 0.09751854, 0.2168447, ...  ...   \n",
              "\n",
              "                                                     25  \\\n",
              "0     [0.26077336, 1.188104, 0.09751854, 0.2168447, ...   \n",
              "1     [0.26077336, 1.188104, 0.09751854, 0.2168447, ...   \n",
              "2     [0.26077336, 1.188104, 0.09751854, 0.2168447, ...   \n",
              "3     [0.26077336, 1.188104, 0.09751854, 0.2168447, ...   \n",
              "4     [0.26077336, 1.188104, 0.09751854, 0.2168447, ...   \n",
              "...                                                 ...   \n",
              "1417  [0.26077336, 1.188104, 0.09751854, 0.2168447, ...   \n",
              "1418  [0.26077336, 1.188104, 0.09751854, 0.2168447, ...   \n",
              "1419  [0.26077336, 1.188104, 0.09751854, 0.2168447, ...   \n",
              "1420  [0.26077336, 1.188104, 0.09751854, 0.2168447, ...   \n",
              "1421  [0.26077336, 1.188104, 0.09751854, 0.2168447, ...   \n",
              "\n",
              "                                                     26  \\\n",
              "0     [0.26077336, 1.188104, 0.09751854, 0.2168447, ...   \n",
              "1     [0.26077336, 1.188104, 0.09751854, 0.2168447, ...   \n",
              "2     [0.26077336, 1.188104, 0.09751854, 0.2168447, ...   \n",
              "3     [0.26077336, 1.188104, 0.09751854, 0.2168447, ...   \n",
              "4     [0.26077336, 1.188104, 0.09751854, 0.2168447, ...   \n",
              "...                                                 ...   \n",
              "1417  [0.26077336, 1.188104, 0.09751854, 0.2168447, ...   \n",
              "1418  [0.26077336, 1.188104, 0.09751854, 0.2168447, ...   \n",
              "1419  [0.26077336, 1.188104, 0.09751854, 0.2168447, ...   \n",
              "1420  [0.26077336, 1.188104, 0.09751854, 0.2168447, ...   \n",
              "1421  [0.26077336, 1.188104, 0.09751854, 0.2168447, ...   \n",
              "\n",
              "                                                     27  \\\n",
              "0     [0.26077336, 1.188104, 0.09751854, 0.2168447, ...   \n",
              "1     [0.26077336, 1.188104, 0.09751854, 0.2168447, ...   \n",
              "2     [0.26077336, 1.188104, 0.09751854, 0.2168447, ...   \n",
              "3     [0.26077336, 1.188104, 0.09751854, 0.2168447, ...   \n",
              "4     [0.26077336, 1.188104, 0.09751854, 0.2168447, ...   \n",
              "...                                                 ...   \n",
              "1417  [0.26077336, 1.188104, 0.09751854, 0.2168447, ...   \n",
              "1418  [0.26077336, 1.188104, 0.09751854, 0.2168447, ...   \n",
              "1419  [0.26077336, 1.188104, 0.09751854, 0.2168447, ...   \n",
              "1420  [0.26077336, 1.188104, 0.09751854, 0.2168447, ...   \n",
              "1421  [0.26077336, 1.188104, 0.09751854, 0.2168447, ...   \n",
              "\n",
              "                                                     28  \\\n",
              "0     [0.26077336, 1.188104, 0.09751854, 0.2168447, ...   \n",
              "1     [0.26077336, 1.188104, 0.09751854, 0.2168447, ...   \n",
              "2     [0.26077336, 1.188104, 0.09751854, 0.2168447, ...   \n",
              "3     [0.26077336, 1.188104, 0.09751854, 0.2168447, ...   \n",
              "4     [0.26077336, 1.188104, 0.09751854, 0.2168447, ...   \n",
              "...                                                 ...   \n",
              "1417  [0.26077336, 1.188104, 0.09751854, 0.2168447, ...   \n",
              "1418  [0.26077336, 1.188104, 0.09751854, 0.2168447, ...   \n",
              "1419  [0.26077336, 1.188104, 0.09751854, 0.2168447, ...   \n",
              "1420  [0.26077336, 1.188104, 0.09751854, 0.2168447, ...   \n",
              "1421  [0.26077336, 1.188104, 0.09751854, 0.2168447, ...   \n",
              "\n",
              "                                                     29  \\\n",
              "0     [0.26077336, 1.188104, 0.09751854, 0.2168447, ...   \n",
              "1     [0.26077336, 1.188104, 0.09751854, 0.2168447, ...   \n",
              "2     [0.26077336, 1.188104, 0.09751854, 0.2168447, ...   \n",
              "3     [0.26077336, 1.188104, 0.09751854, 0.2168447, ...   \n",
              "4     [0.26077336, 1.188104, 0.09751854, 0.2168447, ...   \n",
              "...                                                 ...   \n",
              "1417  [0.26077336, 1.188104, 0.09751854, 0.2168447, ...   \n",
              "1418  [0.26077336, 1.188104, 0.09751854, 0.2168447, ...   \n",
              "1419  [0.26077336, 1.188104, 0.09751854, 0.2168447, ...   \n",
              "1420  [0.26077336, 1.188104, 0.09751854, 0.2168447, ...   \n",
              "1421  [0.26077336, 1.188104, 0.09751854, 0.2168447, ...   \n",
              "\n",
              "                                                     30  \\\n",
              "0     [0.26077336, 1.188104, 0.09751854, 0.2168447, ...   \n",
              "1     [0.26077336, 1.188104, 0.09751854, 0.2168447, ...   \n",
              "2     [0.26077336, 1.188104, 0.09751854, 0.2168447, ...   \n",
              "3     [0.26077336, 1.188104, 0.09751854, 0.2168447, ...   \n",
              "4     [0.26077336, 1.188104, 0.09751854, 0.2168447, ...   \n",
              "...                                                 ...   \n",
              "1417  [0.26077336, 1.188104, 0.09751854, 0.2168447, ...   \n",
              "1418  [0.26077336, 1.188104, 0.09751854, 0.2168447, ...   \n",
              "1419  [0.26077336, 1.188104, 0.09751854, 0.2168447, ...   \n",
              "1420  [0.26077336, 1.188104, 0.09751854, 0.2168447, ...   \n",
              "1421  [0.26077336, 1.188104, 0.09751854, 0.2168447, ...   \n",
              "\n",
              "                                                     31  \\\n",
              "0     [0.26077336, 1.188104, 0.09751854, 0.2168447, ...   \n",
              "1     [0.26077336, 1.188104, 0.09751854, 0.2168447, ...   \n",
              "2     [0.26077336, 1.188104, 0.09751854, 0.2168447, ...   \n",
              "3     [0.26077336, 1.188104, 0.09751854, 0.2168447, ...   \n",
              "4     [0.26077336, 1.188104, 0.09751854, 0.2168447, ...   \n",
              "...                                                 ...   \n",
              "1417  [0.26077336, 1.188104, 0.09751854, 0.2168447, ...   \n",
              "1418  [0.26077336, 1.188104, 0.09751854, 0.2168447, ...   \n",
              "1419  [0.26077336, 1.188104, 0.09751854, 0.2168447, ...   \n",
              "1420  [0.26077336, 1.188104, 0.09751854, 0.2168447, ...   \n",
              "1421  [0.26077336, 1.188104, 0.09751854, 0.2168447, ...   \n",
              "\n",
              "                                                     32  \\\n",
              "0     [0.26077336, 1.188104, 0.09751854, 0.2168447, ...   \n",
              "1     [0.26077336, 1.188104, 0.09751854, 0.2168447, ...   \n",
              "2     [0.26077336, 1.188104, 0.09751854, 0.2168447, ...   \n",
              "3     [0.26077336, 1.188104, 0.09751854, 0.2168447, ...   \n",
              "4     [0.26077336, 1.188104, 0.09751854, 0.2168447, ...   \n",
              "...                                                 ...   \n",
              "1417  [0.26077336, 1.188104, 0.09751854, 0.2168447, ...   \n",
              "1418  [0.26077336, 1.188104, 0.09751854, 0.2168447, ...   \n",
              "1419  [0.26077336, 1.188104, 0.09751854, 0.2168447, ...   \n",
              "1420  [0.26077336, 1.188104, 0.09751854, 0.2168447, ...   \n",
              "1421  [0.26077336, 1.188104, 0.09751854, 0.2168447, ...   \n",
              "\n",
              "                                                     33  \\\n",
              "0     [0.26077336, 1.188104, 0.09751854, 0.2168447, ...   \n",
              "1     [0.26077336, 1.188104, 0.09751854, 0.2168447, ...   \n",
              "2     [0.26077336, 1.188104, 0.09751854, 0.2168447, ...   \n",
              "3     [0.26077336, 1.188104, 0.09751854, 0.2168447, ...   \n",
              "4     [0.26077336, 1.188104, 0.09751854, 0.2168447, ...   \n",
              "...                                                 ...   \n",
              "1417  [0.26077336, 1.188104, 0.09751854, 0.2168447, ...   \n",
              "1418  [0.26077336, 1.188104, 0.09751854, 0.2168447, ...   \n",
              "1419  [0.26077336, 1.188104, 0.09751854, 0.2168447, ...   \n",
              "1420  [0.26077336, 1.188104, 0.09751854, 0.2168447, ...   \n",
              "1421  [0.26077336, 1.188104, 0.09751854, 0.2168447, ...   \n",
              "\n",
              "                                                     34  \n",
              "0     [0.26077336, 1.188104, 0.09751854, 0.2168447, ...  \n",
              "1     [0.26077336, 1.188104, 0.09751854, 0.2168447, ...  \n",
              "2     [0.26077336, 1.188104, 0.09751854, 0.2168447, ...  \n",
              "3     [0.26077336, 1.188104, 0.09751854, 0.2168447, ...  \n",
              "4     [0.26077336, 1.188104, 0.09751854, 0.2168447, ...  \n",
              "...                                                 ...  \n",
              "1417  [0.26077336, 1.188104, 0.09751854, 0.2168447, ...  \n",
              "1418  [0.26077336, 1.188104, 0.09751854, 0.2168447, ...  \n",
              "1419  [0.26077336, 1.188104, 0.09751854, 0.2168447, ...  \n",
              "1420  [0.26077336, 1.188104, 0.09751854, 0.2168447, ...  \n",
              "1421  [0.26077336, 1.188104, 0.09751854, 0.2168447, ...  \n",
              "\n",
              "[1422 rows x 35 columns]"
            ],
            "text/html": [
              "\n",
              "  <div id=\"df-d6d2204a-3161-4f90-9780-cb246309d4cc\">\n",
              "    <div class=\"colab-df-container\">\n",
              "      <div>\n",
              "<style scoped>\n",
              "    .dataframe tbody tr th:only-of-type {\n",
              "        vertical-align: middle;\n",
              "    }\n",
              "\n",
              "    .dataframe tbody tr th {\n",
              "        vertical-align: top;\n",
              "    }\n",
              "\n",
              "    .dataframe thead th {\n",
              "        text-align: right;\n",
              "    }\n",
              "</style>\n",
              "<table border=\"1\" class=\"dataframe\">\n",
              "  <thead>\n",
              "    <tr style=\"text-align: right;\">\n",
              "      <th></th>\n",
              "      <th>0</th>\n",
              "      <th>1</th>\n",
              "      <th>2</th>\n",
              "      <th>3</th>\n",
              "      <th>4</th>\n",
              "      <th>5</th>\n",
              "      <th>6</th>\n",
              "      <th>7</th>\n",
              "      <th>8</th>\n",
              "      <th>9</th>\n",
              "      <th>...</th>\n",
              "      <th>25</th>\n",
              "      <th>26</th>\n",
              "      <th>27</th>\n",
              "      <th>28</th>\n",
              "      <th>29</th>\n",
              "      <th>30</th>\n",
              "      <th>31</th>\n",
              "      <th>32</th>\n",
              "      <th>33</th>\n",
              "      <th>34</th>\n",
              "    </tr>\n",
              "  </thead>\n",
              "  <tbody>\n",
              "    <tr>\n",
              "      <th>0</th>\n",
              "      <td>[0.08888887, 0.48992577, 0.012810764, 0.035572...</td>\n",
              "      <td>[0.26077336, 1.188104, 0.09751854, 0.2168447, ...</td>\n",
              "      <td>[0.18883562, 0.9032818, 0.055079054, 0.1169932...</td>\n",
              "      <td>[0.03663623, 0.21539475, 0.005331595, 0.018540...</td>\n",
              "      <td>[0.26077336, 1.188104, 0.09751854, 0.2168447, ...</td>\n",
              "      <td>[0.010630372, 0.0879466, 0.0034074213, -0.0031...</td>\n",
              "      <td>[0.18883562, 0.9032818, 0.055079054, 0.1169932...</td>\n",
              "      <td>[0.26077336, 1.188104, 0.09751854, 0.2168447, ...</td>\n",
              "      <td>[0.26077336, 1.188104, 0.09751854, 0.2168447, ...</td>\n",
              "      <td>[0.26077336, 1.188104, 0.09751854, 0.2168447, ...</td>\n",
              "      <td>...</td>\n",
              "      <td>[0.26077336, 1.188104, 0.09751854, 0.2168447, ...</td>\n",
              "      <td>[0.26077336, 1.188104, 0.09751854, 0.2168447, ...</td>\n",
              "      <td>[0.26077336, 1.188104, 0.09751854, 0.2168447, ...</td>\n",
              "      <td>[0.26077336, 1.188104, 0.09751854, 0.2168447, ...</td>\n",
              "      <td>[0.26077336, 1.188104, 0.09751854, 0.2168447, ...</td>\n",
              "      <td>[0.26077336, 1.188104, 0.09751854, 0.2168447, ...</td>\n",
              "      <td>[0.26077336, 1.188104, 0.09751854, 0.2168447, ...</td>\n",
              "      <td>[0.26077336, 1.188104, 0.09751854, 0.2168447, ...</td>\n",
              "      <td>[0.26077336, 1.188104, 0.09751854, 0.2168447, ...</td>\n",
              "      <td>[0.26077336, 1.188104, 0.09751854, 0.2168447, ...</td>\n",
              "    </tr>\n",
              "    <tr>\n",
              "      <th>1</th>\n",
              "      <td>[0.26077336, 1.188104, 0.09751854, 0.2168447, ...</td>\n",
              "      <td>[0.26077336, 1.188104, 0.09751854, 0.2168447, ...</td>\n",
              "      <td>[0.26077336, 1.188104, 0.09751854, 0.2168447, ...</td>\n",
              "      <td>[0.26077336, 1.188104, 0.09751854, 0.2168447, ...</td>\n",
              "      <td>[0.26077336, 1.188104, 0.09751854, 0.2168447, ...</td>\n",
              "      <td>[0.18883562, 0.9032818, 0.055079054, 0.1169932...</td>\n",
              "      <td>[0.26077336, 1.188104, 0.09751854, 0.2168447, ...</td>\n",
              "      <td>[0.26077336, 1.188104, 0.09751854, 0.2168447, ...</td>\n",
              "      <td>[0.26077336, 1.188104, 0.09751854, 0.2168447, ...</td>\n",
              "      <td>[0.26077336, 1.188104, 0.09751854, 0.2168447, ...</td>\n",
              "      <td>...</td>\n",
              "      <td>[0.26077336, 1.188104, 0.09751854, 0.2168447, ...</td>\n",
              "      <td>[0.26077336, 1.188104, 0.09751854, 0.2168447, ...</td>\n",
              "      <td>[0.26077336, 1.188104, 0.09751854, 0.2168447, ...</td>\n",
              "      <td>[0.26077336, 1.188104, 0.09751854, 0.2168447, ...</td>\n",
              "      <td>[0.26077336, 1.188104, 0.09751854, 0.2168447, ...</td>\n",
              "      <td>[0.26077336, 1.188104, 0.09751854, 0.2168447, ...</td>\n",
              "      <td>[0.26077336, 1.188104, 0.09751854, 0.2168447, ...</td>\n",
              "      <td>[0.26077336, 1.188104, 0.09751854, 0.2168447, ...</td>\n",
              "      <td>[0.26077336, 1.188104, 0.09751854, 0.2168447, ...</td>\n",
              "      <td>[0.26077336, 1.188104, 0.09751854, 0.2168447, ...</td>\n",
              "    </tr>\n",
              "    <tr>\n",
              "      <th>2</th>\n",
              "      <td>[0.03250283, 0.16924834, 0.0030456744, 0.00388...</td>\n",
              "      <td>[0.26077336, 1.188104, 0.09751854, 0.2168447, ...</td>\n",
              "      <td>[0.03681914, 0.18459095, 0.009473712, 0.020247...</td>\n",
              "      <td>[0.26077336, 1.188104, 0.09751854, 0.2168447, ...</td>\n",
              "      <td>[0.26077336, 1.188104, 0.09751854, 0.2168447, ...</td>\n",
              "      <td>[0.26077336, 1.188104, 0.09751854, 0.2168447, ...</td>\n",
              "      <td>[0.26077336, 1.188104, 0.09751854, 0.2168447, ...</td>\n",
              "      <td>[0.26077336, 1.188104, 0.09751854, 0.2168447, ...</td>\n",
              "      <td>[0.26077336, 1.188104, 0.09751854, 0.2168447, ...</td>\n",
              "      <td>[0.26077336, 1.188104, 0.09751854, 0.2168447, ...</td>\n",
              "      <td>...</td>\n",
              "      <td>[0.26077336, 1.188104, 0.09751854, 0.2168447, ...</td>\n",
              "      <td>[0.26077336, 1.188104, 0.09751854, 0.2168447, ...</td>\n",
              "      <td>[0.26077336, 1.188104, 0.09751854, 0.2168447, ...</td>\n",
              "      <td>[0.26077336, 1.188104, 0.09751854, 0.2168447, ...</td>\n",
              "      <td>[0.26077336, 1.188104, 0.09751854, 0.2168447, ...</td>\n",
              "      <td>[0.26077336, 1.188104, 0.09751854, 0.2168447, ...</td>\n",
              "      <td>[0.26077336, 1.188104, 0.09751854, 0.2168447, ...</td>\n",
              "      <td>[0.26077336, 1.188104, 0.09751854, 0.2168447, ...</td>\n",
              "      <td>[0.26077336, 1.188104, 0.09751854, 0.2168447, ...</td>\n",
              "      <td>[0.26077336, 1.188104, 0.09751854, 0.2168447, ...</td>\n",
              "    </tr>\n",
              "    <tr>\n",
              "      <th>3</th>\n",
              "      <td>[0.26077336, 1.188104, 0.09751854, 0.2168447, ...</td>\n",
              "      <td>[0.26077336, 1.188104, 0.09751854, 0.2168447, ...</td>\n",
              "      <td>[0.18883562, 0.9032818, 0.055079054, 0.1169932...</td>\n",
              "      <td>[0.26077336, 1.188104, 0.09751854, 0.2168447, ...</td>\n",
              "      <td>[0.26077336, 1.188104, 0.09751854, 0.2168447, ...</td>\n",
              "      <td>[0.03336419, 0.16652483, 0.006531925, 0.011266...</td>\n",
              "      <td>[0.18883562, 0.9032818, 0.055079054, 0.1169932...</td>\n",
              "      <td>[0.18575901, 0.862208, 0.03950022, 0.12141003,...</td>\n",
              "      <td>[0.26077336, 1.188104, 0.09751854, 0.2168447, ...</td>\n",
              "      <td>[0.26077336, 1.188104, 0.09751854, 0.2168447, ...</td>\n",
              "      <td>...</td>\n",
              "      <td>[0.26077336, 1.188104, 0.09751854, 0.2168447, ...</td>\n",
              "      <td>[0.26077336, 1.188104, 0.09751854, 0.2168447, ...</td>\n",
              "      <td>[0.26077336, 1.188104, 0.09751854, 0.2168447, ...</td>\n",
              "      <td>[0.26077336, 1.188104, 0.09751854, 0.2168447, ...</td>\n",
              "      <td>[0.26077336, 1.188104, 0.09751854, 0.2168447, ...</td>\n",
              "      <td>[0.26077336, 1.188104, 0.09751854, 0.2168447, ...</td>\n",
              "      <td>[0.26077336, 1.188104, 0.09751854, 0.2168447, ...</td>\n",
              "      <td>[0.26077336, 1.188104, 0.09751854, 0.2168447, ...</td>\n",
              "      <td>[0.26077336, 1.188104, 0.09751854, 0.2168447, ...</td>\n",
              "      <td>[0.26077336, 1.188104, 0.09751854, 0.2168447, ...</td>\n",
              "    </tr>\n",
              "    <tr>\n",
              "      <th>4</th>\n",
              "      <td>[0.26077336, 1.188104, 0.09751854, 0.2168447, ...</td>\n",
              "      <td>[0.18883562, 0.9032818, 0.055079054, 0.1169932...</td>\n",
              "      <td>[0.18575901, 0.862208, 0.03950022, 0.12141003,...</td>\n",
              "      <td>[0.26077336, 1.188104, 0.09751854, 0.2168447, ...</td>\n",
              "      <td>[0.26077336, 1.188104, 0.09751854, 0.2168447, ...</td>\n",
              "      <td>[0.26077336, 1.188104, 0.09751854, 0.2168447, ...</td>\n",
              "      <td>[0.26077336, 1.188104, 0.09751854, 0.2168447, ...</td>\n",
              "      <td>[0.26077336, 1.188104, 0.09751854, 0.2168447, ...</td>\n",
              "      <td>[0.26077336, 1.188104, 0.09751854, 0.2168447, ...</td>\n",
              "      <td>[0.26077336, 1.188104, 0.09751854, 0.2168447, ...</td>\n",
              "      <td>...</td>\n",
              "      <td>[0.26077336, 1.188104, 0.09751854, 0.2168447, ...</td>\n",
              "      <td>[0.26077336, 1.188104, 0.09751854, 0.2168447, ...</td>\n",
              "      <td>[0.26077336, 1.188104, 0.09751854, 0.2168447, ...</td>\n",
              "      <td>[0.26077336, 1.188104, 0.09751854, 0.2168447, ...</td>\n",
              "      <td>[0.26077336, 1.188104, 0.09751854, 0.2168447, ...</td>\n",
              "      <td>[0.26077336, 1.188104, 0.09751854, 0.2168447, ...</td>\n",
              "      <td>[0.26077336, 1.188104, 0.09751854, 0.2168447, ...</td>\n",
              "      <td>[0.26077336, 1.188104, 0.09751854, 0.2168447, ...</td>\n",
              "      <td>[0.26077336, 1.188104, 0.09751854, 0.2168447, ...</td>\n",
              "      <td>[0.26077336, 1.188104, 0.09751854, 0.2168447, ...</td>\n",
              "    </tr>\n",
              "    <tr>\n",
              "      <th>...</th>\n",
              "      <td>...</td>\n",
              "      <td>...</td>\n",
              "      <td>...</td>\n",
              "      <td>...</td>\n",
              "      <td>...</td>\n",
              "      <td>...</td>\n",
              "      <td>...</td>\n",
              "      <td>...</td>\n",
              "      <td>...</td>\n",
              "      <td>...</td>\n",
              "      <td>...</td>\n",
              "      <td>...</td>\n",
              "      <td>...</td>\n",
              "      <td>...</td>\n",
              "      <td>...</td>\n",
              "      <td>...</td>\n",
              "      <td>...</td>\n",
              "      <td>...</td>\n",
              "      <td>...</td>\n",
              "      <td>...</td>\n",
              "      <td>...</td>\n",
              "    </tr>\n",
              "    <tr>\n",
              "      <th>1417</th>\n",
              "      <td>[0.18883562, 0.9032818, 0.055079054, 0.1169932...</td>\n",
              "      <td>[0.18575901, 0.862208, 0.03950022, 0.12141003,...</td>\n",
              "      <td>[0.10613317, 0.53896886, 0.022835884, 0.065579...</td>\n",
              "      <td>[0.09759692, 0.5150388, 0.017710129, 0.0483393...</td>\n",
              "      <td>[0.26077336, 1.188104, 0.09751854, 0.2168447, ...</td>\n",
              "      <td>[0.26077336, 1.188104, 0.09751854, 0.2168447, ...</td>\n",
              "      <td>[0.029947208, 0.14213347, 0.0012521141, 0.0107...</td>\n",
              "      <td>[0.03005334, 0.15524505, 0.009412865, 0.015064...</td>\n",
              "      <td>[0.26077336, 1.188104, 0.09751854, 0.2168447, ...</td>\n",
              "      <td>[0.26077336, 1.188104, 0.09751854, 0.2168447, ...</td>\n",
              "      <td>...</td>\n",
              "      <td>[0.26077336, 1.188104, 0.09751854, 0.2168447, ...</td>\n",
              "      <td>[0.26077336, 1.188104, 0.09751854, 0.2168447, ...</td>\n",
              "      <td>[0.26077336, 1.188104, 0.09751854, 0.2168447, ...</td>\n",
              "      <td>[0.26077336, 1.188104, 0.09751854, 0.2168447, ...</td>\n",
              "      <td>[0.26077336, 1.188104, 0.09751854, 0.2168447, ...</td>\n",
              "      <td>[0.26077336, 1.188104, 0.09751854, 0.2168447, ...</td>\n",
              "      <td>[0.26077336, 1.188104, 0.09751854, 0.2168447, ...</td>\n",
              "      <td>[0.26077336, 1.188104, 0.09751854, 0.2168447, ...</td>\n",
              "      <td>[0.26077336, 1.188104, 0.09751854, 0.2168447, ...</td>\n",
              "      <td>[0.26077336, 1.188104, 0.09751854, 0.2168447, ...</td>\n",
              "    </tr>\n",
              "    <tr>\n",
              "      <th>1418</th>\n",
              "      <td>[0.18883562, 0.9032818, 0.055079054, 0.1169932...</td>\n",
              "      <td>[0.02791634, 0.17347814, 0.0035953803, 0.00683...</td>\n",
              "      <td>[0.029601408, 0.18428038, 0.0009793045, 0.0125...</td>\n",
              "      <td>[0.029541131, 0.17378637, 0.0053690625, 0.0117...</td>\n",
              "      <td>[0.072182655, 0.38151428, 0.009955413, 0.03886...</td>\n",
              "      <td>[0.040049657, 0.22702757, 0.0049039535, 0.0153...</td>\n",
              "      <td>[0.018676924, 0.12887248, 0.001298121, -0.0002...</td>\n",
              "      <td>[0.26077336, 1.188104, 0.09751854, 0.2168447, ...</td>\n",
              "      <td>[0.26077336, 1.188104, 0.09751854, 0.2168447, ...</td>\n",
              "      <td>[0.030535597, 0.1776771, 0.0062757935, 0.00780...</td>\n",
              "      <td>...</td>\n",
              "      <td>[0.26077336, 1.188104, 0.09751854, 0.2168447, ...</td>\n",
              "      <td>[0.26077336, 1.188104, 0.09751854, 0.2168447, ...</td>\n",
              "      <td>[0.26077336, 1.188104, 0.09751854, 0.2168447, ...</td>\n",
              "      <td>[0.26077336, 1.188104, 0.09751854, 0.2168447, ...</td>\n",
              "      <td>[0.26077336, 1.188104, 0.09751854, 0.2168447, ...</td>\n",
              "      <td>[0.26077336, 1.188104, 0.09751854, 0.2168447, ...</td>\n",
              "      <td>[0.26077336, 1.188104, 0.09751854, 0.2168447, ...</td>\n",
              "      <td>[0.26077336, 1.188104, 0.09751854, 0.2168447, ...</td>\n",
              "      <td>[0.26077336, 1.188104, 0.09751854, 0.2168447, ...</td>\n",
              "      <td>[0.26077336, 1.188104, 0.09751854, 0.2168447, ...</td>\n",
              "    </tr>\n",
              "    <tr>\n",
              "      <th>1419</th>\n",
              "      <td>[0.26077336, 1.188104, 0.09751854, 0.2168447, ...</td>\n",
              "      <td>[0.14994027, 0.76710474, 0.031304684, 0.086680...</td>\n",
              "      <td>[0.014152533, 0.093702465, 0.00573952, 0.00329...</td>\n",
              "      <td>[0.041567057, 0.20468718, 0.00582759, 0.013156...</td>\n",
              "      <td>[0.18883562, 0.9032818, 0.055079054, 0.1169932...</td>\n",
              "      <td>[0.18575901, 0.862208, 0.03950022, 0.12141003,...</td>\n",
              "      <td>[0.09940718, 0.50613934, 0.03155659, 0.0644257...</td>\n",
              "      <td>[0.26077336, 1.188104, 0.09751854, 0.2168447, ...</td>\n",
              "      <td>[0.26077336, 1.188104, 0.09751854, 0.2168447, ...</td>\n",
              "      <td>[0.26077336, 1.188104, 0.09751854, 0.2168447, ...</td>\n",
              "      <td>...</td>\n",
              "      <td>[0.26077336, 1.188104, 0.09751854, 0.2168447, ...</td>\n",
              "      <td>[0.26077336, 1.188104, 0.09751854, 0.2168447, ...</td>\n",
              "      <td>[0.26077336, 1.188104, 0.09751854, 0.2168447, ...</td>\n",
              "      <td>[0.26077336, 1.188104, 0.09751854, 0.2168447, ...</td>\n",
              "      <td>[0.26077336, 1.188104, 0.09751854, 0.2168447, ...</td>\n",
              "      <td>[0.26077336, 1.188104, 0.09751854, 0.2168447, ...</td>\n",
              "      <td>[0.26077336, 1.188104, 0.09751854, 0.2168447, ...</td>\n",
              "      <td>[0.26077336, 1.188104, 0.09751854, 0.2168447, ...</td>\n",
              "      <td>[0.26077336, 1.188104, 0.09751854, 0.2168447, ...</td>\n",
              "      <td>[0.26077336, 1.188104, 0.09751854, 0.2168447, ...</td>\n",
              "    </tr>\n",
              "    <tr>\n",
              "      <th>1420</th>\n",
              "      <td>[0.03727776, 0.22189884, 0.0023675282, 0.01252...</td>\n",
              "      <td>[0.18883562, 0.9032818, 0.055079054, 0.1169932...</td>\n",
              "      <td>[0.10756954, 0.5295615, 0.031045793, 0.0627847...</td>\n",
              "      <td>[0.09670928, 0.5381586, 0.011110904, 0.0393335...</td>\n",
              "      <td>[0.043495387, 0.22291009, 0.007296557, 0.01497...</td>\n",
              "      <td>[0.028363636, 0.17150472, 0.0027623782, 0.0080...</td>\n",
              "      <td>[0.05098984, 0.2599338, 0.00216954, 0.01372936...</td>\n",
              "      <td>[0.019769909, 0.114734314, 0.0020841584, 0.011...</td>\n",
              "      <td>[0.26077336, 1.188104, 0.09751854, 0.2168447, ...</td>\n",
              "      <td>[0.26077336, 1.188104, 0.09751854, 0.2168447, ...</td>\n",
              "      <td>...</td>\n",
              "      <td>[0.26077336, 1.188104, 0.09751854, 0.2168447, ...</td>\n",
              "      <td>[0.26077336, 1.188104, 0.09751854, 0.2168447, ...</td>\n",
              "      <td>[0.26077336, 1.188104, 0.09751854, 0.2168447, ...</td>\n",
              "      <td>[0.26077336, 1.188104, 0.09751854, 0.2168447, ...</td>\n",
              "      <td>[0.26077336, 1.188104, 0.09751854, 0.2168447, ...</td>\n",
              "      <td>[0.26077336, 1.188104, 0.09751854, 0.2168447, ...</td>\n",
              "      <td>[0.26077336, 1.188104, 0.09751854, 0.2168447, ...</td>\n",
              "      <td>[0.26077336, 1.188104, 0.09751854, 0.2168447, ...</td>\n",
              "      <td>[0.26077336, 1.188104, 0.09751854, 0.2168447, ...</td>\n",
              "      <td>[0.26077336, 1.188104, 0.09751854, 0.2168447, ...</td>\n",
              "    </tr>\n",
              "    <tr>\n",
              "      <th>1421</th>\n",
              "      <td>[0.10086717, 0.49686003, 0.015339475, 0.053489...</td>\n",
              "      <td>[0.14994027, 0.76710474, 0.031304684, 0.086680...</td>\n",
              "      <td>[0.04718456, 0.2622166, 0.0076792375, 0.016847...</td>\n",
              "      <td>[0.09082552, 0.44887188, 0.022227501, 0.052860...</td>\n",
              "      <td>[0.063709706, 0.34179488, 0.007832243, 0.03674...</td>\n",
              "      <td>[0.26077336, 1.188104, 0.09751854, 0.2168447, ...</td>\n",
              "      <td>[0.04744849, 0.2663215, 0.0067726113, 0.026933...</td>\n",
              "      <td>[0.26077336, 1.188104, 0.09751854, 0.2168447, ...</td>\n",
              "      <td>[0.26077336, 1.188104, 0.09751854, 0.2168447, ...</td>\n",
              "      <td>[0.26077336, 1.188104, 0.09751854, 0.2168447, ...</td>\n",
              "      <td>...</td>\n",
              "      <td>[0.26077336, 1.188104, 0.09751854, 0.2168447, ...</td>\n",
              "      <td>[0.26077336, 1.188104, 0.09751854, 0.2168447, ...</td>\n",
              "      <td>[0.26077336, 1.188104, 0.09751854, 0.2168447, ...</td>\n",
              "      <td>[0.26077336, 1.188104, 0.09751854, 0.2168447, ...</td>\n",
              "      <td>[0.26077336, 1.188104, 0.09751854, 0.2168447, ...</td>\n",
              "      <td>[0.26077336, 1.188104, 0.09751854, 0.2168447, ...</td>\n",
              "      <td>[0.26077336, 1.188104, 0.09751854, 0.2168447, ...</td>\n",
              "      <td>[0.26077336, 1.188104, 0.09751854, 0.2168447, ...</td>\n",
              "      <td>[0.26077336, 1.188104, 0.09751854, 0.2168447, ...</td>\n",
              "      <td>[0.26077336, 1.188104, 0.09751854, 0.2168447, ...</td>\n",
              "    </tr>\n",
              "  </tbody>\n",
              "</table>\n",
              "<p>1422 rows × 35 columns</p>\n",
              "</div>\n",
              "      <button class=\"colab-df-convert\" onclick=\"convertToInteractive('df-d6d2204a-3161-4f90-9780-cb246309d4cc')\"\n",
              "              title=\"Convert this dataframe to an interactive table.\"\n",
              "              style=\"display:none;\">\n",
              "        \n",
              "  <svg xmlns=\"http://www.w3.org/2000/svg\" height=\"24px\"viewBox=\"0 0 24 24\"\n",
              "       width=\"24px\">\n",
              "    <path d=\"M0 0h24v24H0V0z\" fill=\"none\"/>\n",
              "    <path d=\"M18.56 5.44l.94 2.06.94-2.06 2.06-.94-2.06-.94-.94-2.06-.94 2.06-2.06.94zm-11 1L8.5 8.5l.94-2.06 2.06-.94-2.06-.94L8.5 2.5l-.94 2.06-2.06.94zm10 10l.94 2.06.94-2.06 2.06-.94-2.06-.94-.94-2.06-.94 2.06-2.06.94z\"/><path d=\"M17.41 7.96l-1.37-1.37c-.4-.4-.92-.59-1.43-.59-.52 0-1.04.2-1.43.59L10.3 9.45l-7.72 7.72c-.78.78-.78 2.05 0 2.83L4 21.41c.39.39.9.59 1.41.59.51 0 1.02-.2 1.41-.59l7.78-7.78 2.81-2.81c.8-.78.8-2.07 0-2.86zM5.41 20L4 18.59l7.72-7.72 1.47 1.35L5.41 20z\"/>\n",
              "  </svg>\n",
              "      </button>\n",
              "      \n",
              "  <style>\n",
              "    .colab-df-container {\n",
              "      display:flex;\n",
              "      flex-wrap:wrap;\n",
              "      gap: 12px;\n",
              "    }\n",
              "\n",
              "    .colab-df-convert {\n",
              "      background-color: #E8F0FE;\n",
              "      border: none;\n",
              "      border-radius: 50%;\n",
              "      cursor: pointer;\n",
              "      display: none;\n",
              "      fill: #1967D2;\n",
              "      height: 32px;\n",
              "      padding: 0 0 0 0;\n",
              "      width: 32px;\n",
              "    }\n",
              "\n",
              "    .colab-df-convert:hover {\n",
              "      background-color: #E2EBFA;\n",
              "      box-shadow: 0px 1px 2px rgba(60, 64, 67, 0.3), 0px 1px 3px 1px rgba(60, 64, 67, 0.15);\n",
              "      fill: #174EA6;\n",
              "    }\n",
              "\n",
              "    [theme=dark] .colab-df-convert {\n",
              "      background-color: #3B4455;\n",
              "      fill: #D2E3FC;\n",
              "    }\n",
              "\n",
              "    [theme=dark] .colab-df-convert:hover {\n",
              "      background-color: #434B5C;\n",
              "      box-shadow: 0px 1px 3px 1px rgba(0, 0, 0, 0.15);\n",
              "      filter: drop-shadow(0px 1px 2px rgba(0, 0, 0, 0.3));\n",
              "      fill: #FFFFFF;\n",
              "    }\n",
              "  </style>\n",
              "\n",
              "      <script>\n",
              "        const buttonEl =\n",
              "          document.querySelector('#df-d6d2204a-3161-4f90-9780-cb246309d4cc button.colab-df-convert');\n",
              "        buttonEl.style.display =\n",
              "          google.colab.kernel.accessAllowed ? 'block' : 'none';\n",
              "\n",
              "        async function convertToInteractive(key) {\n",
              "          const element = document.querySelector('#df-d6d2204a-3161-4f90-9780-cb246309d4cc');\n",
              "          const dataTable =\n",
              "            await google.colab.kernel.invokeFunction('convertToInteractive',\n",
              "                                                     [key], {});\n",
              "          if (!dataTable) return;\n",
              "\n",
              "          const docLinkHtml = 'Like what you see? Visit the ' +\n",
              "            '<a target=\"_blank\" href=https://colab.research.google.com/notebooks/data_table.ipynb>data table notebook</a>'\n",
              "            + ' to learn more about interactive tables.';\n",
              "          element.innerHTML = '';\n",
              "          dataTable['output_type'] = 'display_data';\n",
              "          await google.colab.output.renderOutput(dataTable, element);\n",
              "          const docLink = document.createElement('div');\n",
              "          docLink.innerHTML = docLinkHtml;\n",
              "          element.appendChild(docLink);\n",
              "        }\n",
              "      </script>\n",
              "    </div>\n",
              "  </div>\n",
              "  "
            ]
          },
          "metadata": {},
          "execution_count": 50
        }
      ],
      "source": [
        "pd.DataFrame(Data)"
      ]
    },
    {
      "cell_type": "markdown",
      "metadata": {
        "id": "vDH5Ac1opoeD"
      },
      "source": [
        "# Split"
      ]
    },
    {
      "cell_type": "code",
      "execution_count": null,
      "metadata": {
        "id": "Bsf3gYEIRo-n"
      },
      "outputs": [],
      "source": [
        "train = Data[:995]\n",
        "test = Data[995:]"
      ]
    },
    {
      "cell_type": "code",
      "execution_count": null,
      "metadata": {
        "id": "lKjX-McGsUlE"
      },
      "outputs": [],
      "source": [
        "x_train = np.asarray(train)\n",
        "x_test = np.asarray(test)"
      ]
    },
    {
      "cell_type": "code",
      "execution_count": null,
      "metadata": {
        "id": "OEBjf_mirylT"
      },
      "outputs": [],
      "source": [
        "y_train = Merged['s'][:995]\n",
        "y_test = Merged['s'][995:]"
      ]
    },
    {
      "cell_type": "markdown",
      "metadata": {
        "id": "bhMJORQ6pq1k"
      },
      "source": [
        "# Building Model"
      ]
    },
    {
      "cell_type": "code",
      "execution_count": null,
      "metadata": {
        "id": "-ml1xGVXpm4w"
      },
      "outputs": [],
      "source": [
        "from keras.models import Sequential\n",
        "from keras.layers import Dense,LSTM"
      ]
    },
    {
      "cell_type": "code",
      "execution_count": null,
      "metadata": {
        "colab": {
          "base_uri": "https://localhost:8080/"
        },
        "id": "QsqTUM8ys1b-",
        "outputId": "e8127cde-6e70-4013-a02d-5dd2bae99065"
      },
      "outputs": [
        {
          "output_type": "execute_result",
          "data": {
            "text/plain": [
              "100"
            ]
          },
          "metadata": {},
          "execution_count": 55
        }
      ],
      "source": [
        "len(x_train[0][0])"
      ]
    },
    {
      "cell_type": "code",
      "execution_count": null,
      "metadata": {
        "id": "tJUjFZHdrrWo"
      },
      "outputs": [],
      "source": [
        "# Build LSTM model\n",
        "model=Sequential()\n",
        "model.add(LSTM(35,activation=\"relu\",return_sequences=True,input_shape=(35,100)))\n",
        "model.add(LSTM(35,activation=\"relu\",return_sequences=False))\n",
        "model.add(Dense(1))"
      ]
    },
    {
      "cell_type": "code",
      "execution_count": null,
      "metadata": {
        "id": "jVmMjsRirrcO"
      },
      "outputs": [],
      "source": [
        "# Compile the model\n",
        "model.compile(optimizer='adam',loss='mean_squared_error', metrics='accuracy')"
      ]
    },
    {
      "cell_type": "code",
      "execution_count": null,
      "metadata": {
        "colab": {
          "base_uri": "https://localhost:8080/"
        },
        "id": "7KAi6uc_rwRx",
        "outputId": "a6ca0ddf-1bb3-4ddd-f738-7f242461eb73"
      },
      "outputs": [
        {
          "output_type": "stream",
          "name": "stdout",
          "text": [
            "Epoch 1/10\n",
            "32/32 [==============================] - 3s 29ms/step - loss: 0.2691 - accuracy: 0.5075\n",
            "Epoch 2/10\n",
            "32/32 [==============================] - 1s 29ms/step - loss: 0.2522 - accuracy: 0.4995\n",
            "Epoch 3/10\n",
            "32/32 [==============================] - 1s 30ms/step - loss: 0.2532 - accuracy: 0.4864\n",
            "Epoch 4/10\n",
            "32/32 [==============================] - 1s 29ms/step - loss: 0.2514 - accuracy: 0.4905\n",
            "Epoch 5/10\n",
            "32/32 [==============================] - 1s 30ms/step - loss: 0.2541 - accuracy: 0.4864\n",
            "Epoch 6/10\n",
            "32/32 [==============================] - 1s 30ms/step - loss: 0.2606 - accuracy: 0.5015\n",
            "Epoch 7/10\n",
            "32/32 [==============================] - 1s 30ms/step - loss: 0.2535 - accuracy: 0.5005\n",
            "Epoch 8/10\n",
            "32/32 [==============================] - 1s 29ms/step - loss: 0.2508 - accuracy: 0.5025\n",
            "Epoch 9/10\n",
            "32/32 [==============================] - 1s 30ms/step - loss: 0.2507 - accuracy: 0.5085\n",
            "Epoch 10/10\n",
            "32/32 [==============================] - 1s 29ms/step - loss: 0.2494 - accuracy: 0.5286\n"
          ]
        },
        {
          "output_type": "execute_result",
          "data": {
            "text/plain": [
              "<keras.callbacks.History at 0x7f7ce0696610>"
            ]
          },
          "metadata": {},
          "execution_count": 66
        }
      ],
      "source": [
        "model.fit(x_train,y_train,epochs=10)"
      ]
    },
    {
      "cell_type": "code",
      "execution_count": null,
      "metadata": {
        "id": "M2MDsEGkrwVT"
      },
      "outputs": [],
      "source": [
        "y_predict = model.predict(x_test)"
      ]
    },
    {
      "cell_type": "code",
      "execution_count": null,
      "metadata": {
        "id": "RFeIV5ourrkw"
      },
      "outputs": [],
      "source": [
        "y_pred=[]\n",
        "tmp=[]\n",
        "for item in y_predict:\n",
        "  if item[0]>=0.5:\n",
        "    tmp.append(1)\n",
        "  else:\n",
        "    tmp.append(0)\n",
        "y_pred = np.array(tmp)\n",
        "#y_pred"
      ]
    },
    {
      "cell_type": "code",
      "source": [
        "from sklearn.metrics import accuracy_score\n",
        "accuracy_score(y_test, y_pred)"
      ],
      "metadata": {
        "colab": {
          "base_uri": "https://localhost:8080/"
        },
        "id": "s6ANAW5mKCxo",
        "outputId": "285363a4-18f6-49a8-9406-cc9f42616388"
      },
      "execution_count": null,
      "outputs": [
        {
          "output_type": "execute_result",
          "data": {
            "text/plain": [
              "0.5433255269320844"
            ]
          },
          "metadata": {},
          "execution_count": 71
        }
      ]
    },
    {
      "cell_type": "code",
      "source": [
        ""
      ],
      "metadata": {
        "id": "9QTxXmWoKO0C"
      },
      "execution_count": null,
      "outputs": []
    }
  ],
  "metadata": {
    "colab": {
      "collapsed_sections": [],
      "name": "OilPrice",
      "toc_visible": true,
      "provenance": [],
      "authorship_tag": "ABX9TyMMDhDAxXDorRT0pkNeRrmg",
      "include_colab_link": true
    },
    "kernelspec": {
      "display_name": "Python 3",
      "name": "python3"
    },
    "language_info": {
      "name": "python"
    }
  },
  "nbformat": 4,
  "nbformat_minor": 0
}